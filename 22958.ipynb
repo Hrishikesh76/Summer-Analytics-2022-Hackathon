{
 "cells": [
  {
   "cell_type": "code",
   "execution_count": 1,
   "id": "7a4b9c8b",
   "metadata": {
    "_cell_guid": "b1076dfc-b9ad-4769-8c92-a6c4dae69d19",
    "_uuid": "8f2839f25d086af736a60e9eeb907d3b93b6e0e5",
    "execution": {
     "iopub.execute_input": "2022-07-14T13:47:37.980667Z",
     "iopub.status.busy": "2022-07-14T13:47:37.980225Z",
     "iopub.status.idle": "2022-07-14T13:47:37.995154Z",
     "shell.execute_reply": "2022-07-14T13:47:37.994267Z"
    },
    "papermill": {
     "duration": 0.039915,
     "end_time": "2022-07-14T13:47:37.998411",
     "exception": false,
     "start_time": "2022-07-14T13:47:37.958496",
     "status": "completed"
    },
    "tags": []
   },
   "outputs": [
    {
     "name": "stdout",
     "output_type": "stream",
     "text": [
      "/kaggle/input/sa2022/Sample__submission.csv\n",
      "/kaggle/input/sa2022/train.csv\n",
      "/kaggle/input/sa2022/test.csv\n"
     ]
    }
   ],
   "source": [
    "# This Python 3 environment comes with many helpful analytics libraries installed\n",
    "# It is defined by the kaggle/python Docker image: https://github.com/kaggle/docker-python\n",
    "# For example, here's several helpful packages to load\n",
    "\n",
    "import numpy as np # linear algebra\n",
    "import pandas as pd # data processing, CSV file I/O (e.g. pd.read_csv)\n",
    "\n",
    "# Input data files are available in the read-only \"../input/\" directory\n",
    "# For example, running this (by clicking run or pressing Shift+Enter) will list all files under the input directory\n",
    "\n",
    "import os\n",
    "for dirname, _, filenames in os.walk('/kaggle/input'):\n",
    "    for filename in filenames:\n",
    "        print(os.path.join(dirname, filename))\n",
    "\n",
    "# You can write up to 20GB to the current directory (/kaggle/working/) that gets preserved as output when you create a version using \"Save & Run All\" \n",
    "# You can also write temporary files to /kaggle/temp/, but they won't be saved outside of the current session"
   ]
  },
  {
   "cell_type": "code",
   "execution_count": 2,
   "id": "9665319e",
   "metadata": {
    "execution": {
     "iopub.execute_input": "2022-07-14T13:47:38.037633Z",
     "iopub.status.busy": "2022-07-14T13:47:38.036961Z",
     "iopub.status.idle": "2022-07-14T13:47:39.561804Z",
     "shell.execute_reply": "2022-07-14T13:47:39.560784Z"
    },
    "papermill": {
     "duration": 1.548021,
     "end_time": "2022-07-14T13:47:39.564371",
     "exception": false,
     "start_time": "2022-07-14T13:47:38.016350",
     "status": "completed"
    },
    "tags": []
   },
   "outputs": [],
   "source": [
    "import matplotlib.pyplot as plt\n",
    "import seaborn as sns\n",
    "%matplotlib inline\n",
    "import warnings\n",
    "warnings.filterwarnings(\"ignore\")\n",
    "from sklearn.preprocessing import LabelEncoder\n",
    "from sklearn.metrics import mean_squared_error \n",
    "from sklearn.model_selection import train_test_split,cross_val_score\n",
    "from sklearn.linear_model import LinearRegression"
   ]
  },
  {
   "cell_type": "markdown",
   "id": "aad5b44b",
   "metadata": {
    "papermill": {
     "duration": 0.017337,
     "end_time": "2022-07-14T13:47:39.599421",
     "exception": false,
     "start_time": "2022-07-14T13:47:39.582084",
     "status": "completed"
    },
    "tags": []
   },
   "source": [
    "# Check data"
   ]
  },
  {
   "cell_type": "code",
   "execution_count": 3,
   "id": "e051019d",
   "metadata": {
    "execution": {
     "iopub.execute_input": "2022-07-14T13:47:39.637247Z",
     "iopub.status.busy": "2022-07-14T13:47:39.636867Z",
     "iopub.status.idle": "2022-07-14T13:47:39.725523Z",
     "shell.execute_reply": "2022-07-14T13:47:39.724271Z"
    },
    "papermill": {
     "duration": 0.110456,
     "end_time": "2022-07-14T13:47:39.728053",
     "exception": false,
     "start_time": "2022-07-14T13:47:39.617597",
     "status": "completed"
    },
    "tags": []
   },
   "outputs": [],
   "source": [
    "train = pd.read_csv('/kaggle/input/sa2022/train.csv')"
   ]
  },
  {
   "cell_type": "code",
   "execution_count": 4,
   "id": "9f3d75a3",
   "metadata": {
    "execution": {
     "iopub.execute_input": "2022-07-14T13:47:39.765649Z",
     "iopub.status.busy": "2022-07-14T13:47:39.765087Z",
     "iopub.status.idle": "2022-07-14T13:47:39.798014Z",
     "shell.execute_reply": "2022-07-14T13:47:39.796870Z"
    },
    "papermill": {
     "duration": 0.054398,
     "end_time": "2022-07-14T13:47:39.800459",
     "exception": false,
     "start_time": "2022-07-14T13:47:39.746061",
     "status": "completed"
    },
    "tags": []
   },
   "outputs": [],
   "source": [
    "test = pd.read_csv('/kaggle/input/sa2022/test.csv')"
   ]
  },
  {
   "cell_type": "code",
   "execution_count": 5,
   "id": "e20108a6",
   "metadata": {
    "execution": {
     "iopub.execute_input": "2022-07-14T13:47:39.837961Z",
     "iopub.status.busy": "2022-07-14T13:47:39.837300Z",
     "iopub.status.idle": "2022-07-14T13:47:39.841371Z",
     "shell.execute_reply": "2022-07-14T13:47:39.840595Z"
    },
    "papermill": {
     "duration": 0.024959,
     "end_time": "2022-07-14T13:47:39.843314",
     "exception": false,
     "start_time": "2022-07-14T13:47:39.818355",
     "status": "completed"
    },
    "tags": []
   },
   "outputs": [],
   "source": [
    "train_len = len(train)"
   ]
  },
  {
   "cell_type": "code",
   "execution_count": 6,
   "id": "78072564",
   "metadata": {
    "execution": {
     "iopub.execute_input": "2022-07-14T13:47:39.880960Z",
     "iopub.status.busy": "2022-07-14T13:47:39.880212Z",
     "iopub.status.idle": "2022-07-14T13:47:39.885909Z",
     "shell.execute_reply": "2022-07-14T13:47:39.884465Z"
    },
    "papermill": {
     "duration": 0.027236,
     "end_time": "2022-07-14T13:47:39.888070",
     "exception": false,
     "start_time": "2022-07-14T13:47:39.860834",
     "status": "completed"
    },
    "tags": []
   },
   "outputs": [
    {
     "name": "stdout",
     "output_type": "stream",
     "text": [
      "The length of train is 15730\n"
     ]
    }
   ],
   "source": [
    "print(\"The length of train is {}\".format(train_len))"
   ]
  },
  {
   "cell_type": "code",
   "execution_count": 7,
   "id": "68d120c3",
   "metadata": {
    "execution": {
     "iopub.execute_input": "2022-07-14T13:47:39.925631Z",
     "iopub.status.busy": "2022-07-14T13:47:39.924941Z",
     "iopub.status.idle": "2022-07-14T13:47:39.950842Z",
     "shell.execute_reply": "2022-07-14T13:47:39.949993Z"
    },
    "papermill": {
     "duration": 0.047189,
     "end_time": "2022-07-14T13:47:39.953002",
     "exception": false,
     "start_time": "2022-07-14T13:47:39.905813",
     "status": "completed"
    },
    "tags": []
   },
   "outputs": [
    {
     "data": {
      "text/html": [
       "<div>\n",
       "<style scoped>\n",
       "    .dataframe tbody tr th:only-of-type {\n",
       "        vertical-align: middle;\n",
       "    }\n",
       "\n",
       "    .dataframe tbody tr th {\n",
       "        vertical-align: top;\n",
       "    }\n",
       "\n",
       "    .dataframe thead th {\n",
       "        text-align: right;\n",
       "    }\n",
       "</style>\n",
       "<table border=\"1\" class=\"dataframe\">\n",
       "  <thead>\n",
       "    <tr style=\"text-align: right;\">\n",
       "      <th></th>\n",
       "      <th>id</th>\n",
       "      <th>title</th>\n",
       "      <th>Rating</th>\n",
       "      <th>maincateg</th>\n",
       "      <th>platform</th>\n",
       "      <th>actprice1</th>\n",
       "      <th>norating1</th>\n",
       "      <th>noreviews1</th>\n",
       "      <th>star_5f</th>\n",
       "      <th>star_4f</th>\n",
       "      <th>star_3f</th>\n",
       "      <th>star_2f</th>\n",
       "      <th>star_1f</th>\n",
       "      <th>fulfilled1</th>\n",
       "    </tr>\n",
       "  </thead>\n",
       "  <tbody>\n",
       "    <tr>\n",
       "      <th>0</th>\n",
       "      <td>2242</td>\n",
       "      <td>Casuals For Men  (Blue)</td>\n",
       "      <td>3.8</td>\n",
       "      <td>Men</td>\n",
       "      <td>Flipkart</td>\n",
       "      <td>999</td>\n",
       "      <td>27928</td>\n",
       "      <td>3543</td>\n",
       "      <td>14238.0</td>\n",
       "      <td>4295</td>\n",
       "      <td>3457</td>\n",
       "      <td>1962</td>\n",
       "      <td>3976.0</td>\n",
       "      <td>1</td>\n",
       "    </tr>\n",
       "    <tr>\n",
       "      <th>1</th>\n",
       "      <td>20532</td>\n",
       "      <td>Women Black Flats Sandal</td>\n",
       "      <td>3.9</td>\n",
       "      <td>Women</td>\n",
       "      <td>Flipkart</td>\n",
       "      <td>499</td>\n",
       "      <td>3015</td>\n",
       "      <td>404</td>\n",
       "      <td>1458.0</td>\n",
       "      <td>657</td>\n",
       "      <td>397</td>\n",
       "      <td>182</td>\n",
       "      <td>321.0</td>\n",
       "      <td>1</td>\n",
       "    </tr>\n",
       "    <tr>\n",
       "      <th>2</th>\n",
       "      <td>10648</td>\n",
       "      <td>Women Gold Wedges Sandal</td>\n",
       "      <td>3.9</td>\n",
       "      <td>Women</td>\n",
       "      <td>Flipkart</td>\n",
       "      <td>999</td>\n",
       "      <td>449</td>\n",
       "      <td>52</td>\n",
       "      <td>229.0</td>\n",
       "      <td>70</td>\n",
       "      <td>71</td>\n",
       "      <td>33</td>\n",
       "      <td>46.0</td>\n",
       "      <td>1</td>\n",
       "    </tr>\n",
       "    <tr>\n",
       "      <th>3</th>\n",
       "      <td>20677</td>\n",
       "      <td>Men's Height Increasing High Heel Formal Party...</td>\n",
       "      <td>3.9</td>\n",
       "      <td>Men</td>\n",
       "      <td>Flipkart</td>\n",
       "      <td>2999</td>\n",
       "      <td>290</td>\n",
       "      <td>40</td>\n",
       "      <td>141.0</td>\n",
       "      <td>51</td>\n",
       "      <td>49</td>\n",
       "      <td>17</td>\n",
       "      <td>32.0</td>\n",
       "      <td>1</td>\n",
       "    </tr>\n",
       "    <tr>\n",
       "      <th>4</th>\n",
       "      <td>12593</td>\n",
       "      <td>Loafers For Men  (Tan)</td>\n",
       "      <td>3.9</td>\n",
       "      <td>Men</td>\n",
       "      <td>Flipkart</td>\n",
       "      <td>999</td>\n",
       "      <td>2423</td>\n",
       "      <td>326</td>\n",
       "      <td>1265.0</td>\n",
       "      <td>414</td>\n",
       "      <td>293</td>\n",
       "      <td>143</td>\n",
       "      <td>308.0</td>\n",
       "      <td>0</td>\n",
       "    </tr>\n",
       "  </tbody>\n",
       "</table>\n",
       "</div>"
      ],
      "text/plain": [
       "      id                                              title  Rating maincateg  \\\n",
       "0   2242                            Casuals For Men  (Blue)     3.8       Men   \n",
       "1  20532                           Women Black Flats Sandal     3.9     Women   \n",
       "2  10648                           Women Gold Wedges Sandal     3.9     Women   \n",
       "3  20677  Men's Height Increasing High Heel Formal Party...     3.9       Men   \n",
       "4  12593                             Loafers For Men  (Tan)     3.9       Men   \n",
       "\n",
       "   platform  actprice1  norating1  noreviews1  star_5f  star_4f  star_3f  \\\n",
       "0  Flipkart        999      27928        3543  14238.0     4295     3457   \n",
       "1  Flipkart        499       3015         404   1458.0      657      397   \n",
       "2  Flipkart        999        449          52    229.0       70       71   \n",
       "3  Flipkart       2999        290          40    141.0       51       49   \n",
       "4  Flipkart        999       2423         326   1265.0      414      293   \n",
       "\n",
       "   star_2f  star_1f  fulfilled1  \n",
       "0     1962   3976.0           1  \n",
       "1      182    321.0           1  \n",
       "2       33     46.0           1  \n",
       "3       17     32.0           1  \n",
       "4      143    308.0           0  "
      ]
     },
     "execution_count": 7,
     "metadata": {},
     "output_type": "execute_result"
    }
   ],
   "source": [
    "test.head()"
   ]
  },
  {
   "cell_type": "code",
   "execution_count": 8,
   "id": "cb20ffa7",
   "metadata": {
    "execution": {
     "iopub.execute_input": "2022-07-14T13:47:39.991420Z",
     "iopub.status.busy": "2022-07-14T13:47:39.991035Z",
     "iopub.status.idle": "2022-07-14T13:47:40.012307Z",
     "shell.execute_reply": "2022-07-14T13:47:40.011231Z"
    },
    "papermill": {
     "duration": 0.043197,
     "end_time": "2022-07-14T13:47:40.014519",
     "exception": false,
     "start_time": "2022-07-14T13:47:39.971322",
     "status": "completed"
    },
    "tags": []
   },
   "outputs": [
    {
     "data": {
      "text/html": [
       "<div>\n",
       "<style scoped>\n",
       "    .dataframe tbody tr th:only-of-type {\n",
       "        vertical-align: middle;\n",
       "    }\n",
       "\n",
       "    .dataframe tbody tr th {\n",
       "        vertical-align: top;\n",
       "    }\n",
       "\n",
       "    .dataframe thead th {\n",
       "        text-align: right;\n",
       "    }\n",
       "</style>\n",
       "<table border=\"1\" class=\"dataframe\">\n",
       "  <thead>\n",
       "    <tr style=\"text-align: right;\">\n",
       "      <th></th>\n",
       "      <th>id</th>\n",
       "      <th>title</th>\n",
       "      <th>Rating</th>\n",
       "      <th>maincateg</th>\n",
       "      <th>platform</th>\n",
       "      <th>price1</th>\n",
       "      <th>actprice1</th>\n",
       "      <th>Offer %</th>\n",
       "      <th>norating1</th>\n",
       "      <th>noreviews1</th>\n",
       "      <th>star_5f</th>\n",
       "      <th>star_4f</th>\n",
       "      <th>star_3f</th>\n",
       "      <th>star_2f</th>\n",
       "      <th>star_1f</th>\n",
       "      <th>fulfilled1</th>\n",
       "    </tr>\n",
       "  </thead>\n",
       "  <tbody>\n",
       "    <tr>\n",
       "      <th>15725</th>\n",
       "      <td>16554</td>\n",
       "      <td>Women Maroon Heels Sandal</td>\n",
       "      <td>4.3</td>\n",
       "      <td>Women</td>\n",
       "      <td>Flipkart</td>\n",
       "      <td>567</td>\n",
       "      <td>1199</td>\n",
       "      <td>52.71%</td>\n",
       "      <td>807.0</td>\n",
       "      <td>114.0</td>\n",
       "      <td>485.0</td>\n",
       "      <td>177.0</td>\n",
       "      <td>61.0</td>\n",
       "      <td>41</td>\n",
       "      <td>43</td>\n",
       "      <td>0</td>\n",
       "    </tr>\n",
       "    <tr>\n",
       "      <th>15726</th>\n",
       "      <td>19600</td>\n",
       "      <td>Women Multicolor Flats Sandal</td>\n",
       "      <td>3.9</td>\n",
       "      <td>Women</td>\n",
       "      <td>Flipkart</td>\n",
       "      <td>499</td>\n",
       "      <td>998</td>\n",
       "      <td>50.00%</td>\n",
       "      <td>246.0</td>\n",
       "      <td>34.0</td>\n",
       "      <td>120.0</td>\n",
       "      <td>45.0</td>\n",
       "      <td>37.0</td>\n",
       "      <td>16</td>\n",
       "      <td>28</td>\n",
       "      <td>1</td>\n",
       "    </tr>\n",
       "    <tr>\n",
       "      <th>15727</th>\n",
       "      <td>6733</td>\n",
       "      <td>Women Navy Flats Sandal</td>\n",
       "      <td>3.7</td>\n",
       "      <td>Women</td>\n",
       "      <td>Flipkart</td>\n",
       "      <td>329</td>\n",
       "      <td>499</td>\n",
       "      <td>34.07%</td>\n",
       "      <td>NaN</td>\n",
       "      <td>18.0</td>\n",
       "      <td>NaN</td>\n",
       "      <td>NaN</td>\n",
       "      <td>20.0</td>\n",
       "      <td>10</td>\n",
       "      <td>15</td>\n",
       "      <td>1</td>\n",
       "    </tr>\n",
       "    <tr>\n",
       "      <th>15728</th>\n",
       "      <td>3889</td>\n",
       "      <td>Red Chief Men's Sneakers</td>\n",
       "      <td>3.9</td>\n",
       "      <td>Men</td>\n",
       "      <td>Amazon</td>\n",
       "      <td>2249</td>\n",
       "      <td>4499</td>\n",
       "      <td>50.01%</td>\n",
       "      <td>750.0</td>\n",
       "      <td>479.0</td>\n",
       "      <td>13.0</td>\n",
       "      <td>6.0</td>\n",
       "      <td>10.0</td>\n",
       "      <td>25</td>\n",
       "      <td>47</td>\n",
       "      <td>1</td>\n",
       "    </tr>\n",
       "    <tr>\n",
       "      <th>15729</th>\n",
       "      <td>13682</td>\n",
       "      <td>Slip On For Men  (Brown)</td>\n",
       "      <td>5.0</td>\n",
       "      <td>Men</td>\n",
       "      <td>Flipkart</td>\n",
       "      <td>1539</td>\n",
       "      <td>2799</td>\n",
       "      <td>45.02%</td>\n",
       "      <td>8.0</td>\n",
       "      <td>1.0</td>\n",
       "      <td>8.0</td>\n",
       "      <td>0.0</td>\n",
       "      <td>0.0</td>\n",
       "      <td>0</td>\n",
       "      <td>0</td>\n",
       "      <td>1</td>\n",
       "    </tr>\n",
       "  </tbody>\n",
       "</table>\n",
       "</div>"
      ],
      "text/plain": [
       "          id                          title  Rating maincateg  platform  \\\n",
       "15725  16554      Women Maroon Heels Sandal     4.3     Women  Flipkart   \n",
       "15726  19600  Women Multicolor Flats Sandal     3.9     Women  Flipkart   \n",
       "15727   6733        Women Navy Flats Sandal     3.7     Women  Flipkart   \n",
       "15728   3889       Red Chief Men's Sneakers     3.9       Men    Amazon   \n",
       "15729  13682       Slip On For Men  (Brown)     5.0       Men  Flipkart   \n",
       "\n",
       "       price1  actprice1 Offer %  norating1  noreviews1  star_5f  star_4f  \\\n",
       "15725     567       1199  52.71%      807.0       114.0    485.0    177.0   \n",
       "15726     499        998  50.00%      246.0        34.0    120.0     45.0   \n",
       "15727     329        499  34.07%        NaN        18.0      NaN      NaN   \n",
       "15728    2249       4499  50.01%      750.0       479.0     13.0      6.0   \n",
       "15729    1539       2799  45.02%        8.0         1.0      8.0      0.0   \n",
       "\n",
       "       star_3f  star_2f  star_1f  fulfilled1  \n",
       "15725     61.0       41       43           0  \n",
       "15726     37.0       16       28           1  \n",
       "15727     20.0       10       15           1  \n",
       "15728     10.0       25       47           1  \n",
       "15729      0.0        0        0           1  "
      ]
     },
     "execution_count": 8,
     "metadata": {},
     "output_type": "execute_result"
    }
   ],
   "source": [
    "train.tail()"
   ]
  },
  {
   "cell_type": "code",
   "execution_count": 9,
   "id": "1a12be53",
   "metadata": {
    "execution": {
     "iopub.execute_input": "2022-07-14T13:47:40.053216Z",
     "iopub.status.busy": "2022-07-14T13:47:40.052834Z",
     "iopub.status.idle": "2022-07-14T13:47:40.087647Z",
     "shell.execute_reply": "2022-07-14T13:47:40.086113Z"
    },
    "papermill": {
     "duration": 0.057225,
     "end_time": "2022-07-14T13:47:40.090151",
     "exception": false,
     "start_time": "2022-07-14T13:47:40.032926",
     "status": "completed"
    },
    "tags": []
   },
   "outputs": [
    {
     "name": "stdout",
     "output_type": "stream",
     "text": [
      "<class 'pandas.core.frame.DataFrame'>\n",
      "RangeIndex: 15730 entries, 0 to 15729\n",
      "Data columns (total 16 columns):\n",
      " #   Column      Non-Null Count  Dtype  \n",
      "---  ------      --------------  -----  \n",
      " 0   id          15730 non-null  int64  \n",
      " 1   title       15730 non-null  object \n",
      " 2   Rating      15730 non-null  float64\n",
      " 3   maincateg   15204 non-null  object \n",
      " 4   platform    15730 non-null  object \n",
      " 5   price1      15730 non-null  int64  \n",
      " 6   actprice1   15730 non-null  int64  \n",
      " 7   Offer %     15730 non-null  object \n",
      " 8   norating1   15052 non-null  float64\n",
      " 9   noreviews1  15152 non-null  float64\n",
      " 10  star_5f     15142 non-null  float64\n",
      " 11  star_4f     15191 non-null  float64\n",
      " 12  star_3f     15499 non-null  float64\n",
      " 13  star_2f     15730 non-null  int64  \n",
      " 14  star_1f     15730 non-null  int64  \n",
      " 15  fulfilled1  15730 non-null  int64  \n",
      "dtypes: float64(6), int64(6), object(4)\n",
      "memory usage: 1.9+ MB\n"
     ]
    }
   ],
   "source": [
    "train.info()"
   ]
  },
  {
   "cell_type": "code",
   "execution_count": 10,
   "id": "237434a3",
   "metadata": {
    "execution": {
     "iopub.execute_input": "2022-07-14T13:47:40.129075Z",
     "iopub.status.busy": "2022-07-14T13:47:40.128635Z",
     "iopub.status.idle": "2022-07-14T13:47:40.147313Z",
     "shell.execute_reply": "2022-07-14T13:47:40.145953Z"
    },
    "papermill": {
     "duration": 0.041196,
     "end_time": "2022-07-14T13:47:40.149920",
     "exception": false,
     "start_time": "2022-07-14T13:47:40.108724",
     "status": "completed"
    },
    "tags": []
   },
   "outputs": [
    {
     "data": {
      "text/plain": [
       "id              0\n",
       "title           0\n",
       "Rating          0\n",
       "maincateg     526\n",
       "platform        0\n",
       "price1          0\n",
       "actprice1       0\n",
       "Offer %         0\n",
       "norating1     678\n",
       "noreviews1    578\n",
       "star_5f       588\n",
       "star_4f       539\n",
       "star_3f       231\n",
       "star_2f         0\n",
       "star_1f         0\n",
       "fulfilled1      0\n",
       "dtype: int64"
      ]
     },
     "execution_count": 10,
     "metadata": {},
     "output_type": "execute_result"
    }
   ],
   "source": [
    "train.isnull().sum()"
   ]
  },
  {
   "cell_type": "code",
   "execution_count": 11,
   "id": "ab322dbd",
   "metadata": {
    "execution": {
     "iopub.execute_input": "2022-07-14T13:47:40.190408Z",
     "iopub.status.busy": "2022-07-14T13:47:40.189482Z",
     "iopub.status.idle": "2022-07-14T13:47:40.196532Z",
     "shell.execute_reply": "2022-07-14T13:47:40.195705Z"
    },
    "papermill": {
     "duration": 0.029324,
     "end_time": "2022-07-14T13:47:40.198518",
     "exception": false,
     "start_time": "2022-07-14T13:47:40.169194",
     "status": "completed"
    },
    "tags": []
   },
   "outputs": [
    {
     "data": {
      "text/plain": [
       "(15730, 16)"
      ]
     },
     "execution_count": 11,
     "metadata": {},
     "output_type": "execute_result"
    }
   ],
   "source": [
    "train.shape"
   ]
  },
  {
   "cell_type": "code",
   "execution_count": 12,
   "id": "d0f3790c",
   "metadata": {
    "execution": {
     "iopub.execute_input": "2022-07-14T13:47:40.239898Z",
     "iopub.status.busy": "2022-07-14T13:47:40.239158Z",
     "iopub.status.idle": "2022-07-14T13:47:40.298667Z",
     "shell.execute_reply": "2022-07-14T13:47:40.297499Z"
    },
    "papermill": {
     "duration": 0.083921,
     "end_time": "2022-07-14T13:47:40.301437",
     "exception": false,
     "start_time": "2022-07-14T13:47:40.217516",
     "status": "completed"
    },
    "tags": []
   },
   "outputs": [
    {
     "data": {
      "text/html": [
       "<div>\n",
       "<style scoped>\n",
       "    .dataframe tbody tr th:only-of-type {\n",
       "        vertical-align: middle;\n",
       "    }\n",
       "\n",
       "    .dataframe tbody tr th {\n",
       "        vertical-align: top;\n",
       "    }\n",
       "\n",
       "    .dataframe thead th {\n",
       "        text-align: right;\n",
       "    }\n",
       "</style>\n",
       "<table border=\"1\" class=\"dataframe\">\n",
       "  <thead>\n",
       "    <tr style=\"text-align: right;\">\n",
       "      <th></th>\n",
       "      <th>id</th>\n",
       "      <th>Rating</th>\n",
       "      <th>price1</th>\n",
       "      <th>actprice1</th>\n",
       "      <th>norating1</th>\n",
       "      <th>noreviews1</th>\n",
       "      <th>star_5f</th>\n",
       "      <th>star_4f</th>\n",
       "      <th>star_3f</th>\n",
       "      <th>star_2f</th>\n",
       "      <th>star_1f</th>\n",
       "      <th>fulfilled1</th>\n",
       "    </tr>\n",
       "  </thead>\n",
       "  <tbody>\n",
       "    <tr>\n",
       "      <th>count</th>\n",
       "      <td>15730.000000</td>\n",
       "      <td>15730.000000</td>\n",
       "      <td>15730.000000</td>\n",
       "      <td>15730.000000</td>\n",
       "      <td>15052.000000</td>\n",
       "      <td>15152.000000</td>\n",
       "      <td>15142.000000</td>\n",
       "      <td>15191.000000</td>\n",
       "      <td>15499.000000</td>\n",
       "      <td>15730.000000</td>\n",
       "      <td>15730.000000</td>\n",
       "      <td>15730.000000</td>\n",
       "    </tr>\n",
       "    <tr>\n",
       "      <th>mean</th>\n",
       "      <td>10479.541577</td>\n",
       "      <td>4.012873</td>\n",
       "      <td>688.070693</td>\n",
       "      <td>1369.286777</td>\n",
       "      <td>3057.660776</td>\n",
       "      <td>423.976307</td>\n",
       "      <td>1585.239466</td>\n",
       "      <td>655.923310</td>\n",
       "      <td>357.260662</td>\n",
       "      <td>155.085188</td>\n",
       "      <td>275.500572</td>\n",
       "      <td>0.601526</td>\n",
       "    </tr>\n",
       "    <tr>\n",
       "      <th>std</th>\n",
       "      <td>6080.166276</td>\n",
       "      <td>0.298440</td>\n",
       "      <td>649.409586</td>\n",
       "      <td>1240.900227</td>\n",
       "      <td>11846.965689</td>\n",
       "      <td>1768.230384</td>\n",
       "      <td>6177.476241</td>\n",
       "      <td>2855.735531</td>\n",
       "      <td>1402.246610</td>\n",
       "      <td>558.650254</td>\n",
       "      <td>958.589075</td>\n",
       "      <td>0.489600</td>\n",
       "    </tr>\n",
       "    <tr>\n",
       "      <th>min</th>\n",
       "      <td>3.000000</td>\n",
       "      <td>0.000000</td>\n",
       "      <td>69.000000</td>\n",
       "      <td>42.000000</td>\n",
       "      <td>1.000000</td>\n",
       "      <td>0.000000</td>\n",
       "      <td>0.000000</td>\n",
       "      <td>0.000000</td>\n",
       "      <td>0.000000</td>\n",
       "      <td>0.000000</td>\n",
       "      <td>0.000000</td>\n",
       "      <td>0.000000</td>\n",
       "    </tr>\n",
       "    <tr>\n",
       "      <th>25%</th>\n",
       "      <td>5212.000000</td>\n",
       "      <td>3.900000</td>\n",
       "      <td>349.000000</td>\n",
       "      <td>699.000000</td>\n",
       "      <td>63.000000</td>\n",
       "      <td>9.000000</td>\n",
       "      <td>30.000000</td>\n",
       "      <td>12.000000</td>\n",
       "      <td>7.000000</td>\n",
       "      <td>3.000000</td>\n",
       "      <td>6.000000</td>\n",
       "      <td>0.000000</td>\n",
       "    </tr>\n",
       "    <tr>\n",
       "      <th>50%</th>\n",
       "      <td>10458.500000</td>\n",
       "      <td>4.000000</td>\n",
       "      <td>474.000000</td>\n",
       "      <td>999.000000</td>\n",
       "      <td>308.000000</td>\n",
       "      <td>44.000000</td>\n",
       "      <td>150.000000</td>\n",
       "      <td>60.000000</td>\n",
       "      <td>34.000000</td>\n",
       "      <td>17.000000</td>\n",
       "      <td>30.000000</td>\n",
       "      <td>1.000000</td>\n",
       "    </tr>\n",
       "    <tr>\n",
       "      <th>75%</th>\n",
       "      <td>15766.750000</td>\n",
       "      <td>4.200000</td>\n",
       "      <td>699.000000</td>\n",
       "      <td>1299.000000</td>\n",
       "      <td>1526.000000</td>\n",
       "      <td>215.000000</td>\n",
       "      <td>788.000000</td>\n",
       "      <td>300.000000</td>\n",
       "      <td>172.000000</td>\n",
       "      <td>77.000000</td>\n",
       "      <td>140.000000</td>\n",
       "      <td>1.000000</td>\n",
       "    </tr>\n",
       "    <tr>\n",
       "      <th>max</th>\n",
       "      <td>20973.000000</td>\n",
       "      <td>5.000000</td>\n",
       "      <td>5998.000000</td>\n",
       "      <td>13499.000000</td>\n",
       "      <td>289973.000000</td>\n",
       "      <td>45448.000000</td>\n",
       "      <td>151193.000000</td>\n",
       "      <td>74037.000000</td>\n",
       "      <td>34978.000000</td>\n",
       "      <td>11705.000000</td>\n",
       "      <td>18060.000000</td>\n",
       "      <td>1.000000</td>\n",
       "    </tr>\n",
       "  </tbody>\n",
       "</table>\n",
       "</div>"
      ],
      "text/plain": [
       "                 id        Rating        price1     actprice1      norating1  \\\n",
       "count  15730.000000  15730.000000  15730.000000  15730.000000   15052.000000   \n",
       "mean   10479.541577      4.012873    688.070693   1369.286777    3057.660776   \n",
       "std     6080.166276      0.298440    649.409586   1240.900227   11846.965689   \n",
       "min        3.000000      0.000000     69.000000     42.000000       1.000000   \n",
       "25%     5212.000000      3.900000    349.000000    699.000000      63.000000   \n",
       "50%    10458.500000      4.000000    474.000000    999.000000     308.000000   \n",
       "75%    15766.750000      4.200000    699.000000   1299.000000    1526.000000   \n",
       "max    20973.000000      5.000000   5998.000000  13499.000000  289973.000000   \n",
       "\n",
       "         noreviews1        star_5f       star_4f       star_3f       star_2f  \\\n",
       "count  15152.000000   15142.000000  15191.000000  15499.000000  15730.000000   \n",
       "mean     423.976307    1585.239466    655.923310    357.260662    155.085188   \n",
       "std     1768.230384    6177.476241   2855.735531   1402.246610    558.650254   \n",
       "min        0.000000       0.000000      0.000000      0.000000      0.000000   \n",
       "25%        9.000000      30.000000     12.000000      7.000000      3.000000   \n",
       "50%       44.000000     150.000000     60.000000     34.000000     17.000000   \n",
       "75%      215.000000     788.000000    300.000000    172.000000     77.000000   \n",
       "max    45448.000000  151193.000000  74037.000000  34978.000000  11705.000000   \n",
       "\n",
       "            star_1f    fulfilled1  \n",
       "count  15730.000000  15730.000000  \n",
       "mean     275.500572      0.601526  \n",
       "std      958.589075      0.489600  \n",
       "min        0.000000      0.000000  \n",
       "25%        6.000000      0.000000  \n",
       "50%       30.000000      1.000000  \n",
       "75%      140.000000      1.000000  \n",
       "max    18060.000000      1.000000  "
      ]
     },
     "execution_count": 12,
     "metadata": {},
     "output_type": "execute_result"
    }
   ],
   "source": [
    "train.describe()"
   ]
  },
  {
   "cell_type": "markdown",
   "id": "8ae5a8aa",
   "metadata": {
    "papermill": {
     "duration": 0.019567,
     "end_time": "2022-07-14T13:47:40.341273",
     "exception": false,
     "start_time": "2022-07-14T13:47:40.321706",
     "status": "completed"
    },
    "tags": []
   },
   "source": [
    "## Plotting Data"
   ]
  },
  {
   "cell_type": "code",
   "execution_count": 13,
   "id": "4e3c2801",
   "metadata": {
    "execution": {
     "iopub.execute_input": "2022-07-14T13:47:40.381381Z",
     "iopub.status.busy": "2022-07-14T13:47:40.380719Z",
     "iopub.status.idle": "2022-07-14T13:47:40.386898Z",
     "shell.execute_reply": "2022-07-14T13:47:40.385643Z"
    },
    "papermill": {
     "duration": 0.028715,
     "end_time": "2022-07-14T13:47:40.389027",
     "exception": false,
     "start_time": "2022-07-14T13:47:40.360312",
     "status": "completed"
    },
    "tags": []
   },
   "outputs": [
    {
     "name": "stdout",
     "output_type": "stream",
     "text": [
      "['id', 'title', 'Rating', 'maincateg', 'platform', 'price1', 'actprice1', 'Offer %', 'norating1', 'noreviews1', 'star_5f', 'star_4f', 'star_3f', 'star_2f', 'star_1f', 'fulfilled1']\n"
     ]
    }
   ],
   "source": [
    "a = [col for col in train.columns]\n",
    "print(a)  "
   ]
  },
  {
   "cell_type": "code",
   "execution_count": 14,
   "id": "98ac5cf8",
   "metadata": {
    "execution": {
     "iopub.execute_input": "2022-07-14T13:47:40.428873Z",
     "iopub.status.busy": "2022-07-14T13:47:40.428252Z",
     "iopub.status.idle": "2022-07-14T13:47:40.844724Z",
     "shell.execute_reply": "2022-07-14T13:47:40.843622Z"
    },
    "papermill": {
     "duration": 0.439272,
     "end_time": "2022-07-14T13:47:40.847401",
     "exception": false,
     "start_time": "2022-07-14T13:47:40.408129",
     "status": "completed"
    },
    "tags": []
   },
   "outputs": [
    {
     "data": {
      "text/plain": [
       "<AxesSubplot:xlabel='norating1', ylabel='Density'>"
      ]
     },
     "execution_count": 14,
     "metadata": {},
     "output_type": "execute_result"
    },
    {
     "data": {
      "image/png": "[encoded data removed]",
      "text/plain": [
       "<Figure size 432x288 with 1 Axes>"
      ]
     },
     "metadata": {
      "needs_background": "light"
     },
     "output_type": "display_data"
    }
   ],
   "source": [
    "sns.distplot(train['norating1'])"
   ]
  },
  {
   "cell_type": "code",
   "execution_count": 15,
   "id": "95df0eb4",
   "metadata": {
    "execution": {
     "iopub.execute_input": "2022-07-14T13:47:40.889052Z",
     "iopub.status.busy": "2022-07-14T13:47:40.888641Z",
     "iopub.status.idle": "2022-07-14T13:47:41.043083Z",
     "shell.execute_reply": "2022-07-14T13:47:41.041921Z"
    },
    "papermill": {
     "duration": 0.178433,
     "end_time": "2022-07-14T13:47:41.045560",
     "exception": false,
     "start_time": "2022-07-14T13:47:40.867127",
     "status": "completed"
    },
    "tags": []
   },
   "outputs": [
    {
     "data": {
      "text/plain": [
       "(array([1.4831e+04, 2.1400e+02, 6.1000e+01, 8.0000e+00, 1.7000e+01,\n",
       "        0.0000e+00, 0.0000e+00, 0.0000e+00, 0.0000e+00, 1.1000e+01]),\n",
       " array([     0. ,  15119.3,  30238.6,  45357.9,  60477.2,  75596.5,\n",
       "         90715.8, 105835.1, 120954.4, 136073.7, 151193. ]),\n",
       " <BarContainer object of 10 artists>)"
      ]
     },
     "execution_count": 15,
     "metadata": {},
     "output_type": "execute_result"
    },
    {
     "data": {
      "image/png": "[encoded data removed]",
      "text/plain": [
       "<Figure size 432x288 with 1 Axes>"
      ]
     },
     "metadata": {
      "needs_background": "light"
     },
     "output_type": "display_data"
    }
   ],
   "source": [
    "plt.hist(train['star_5f'])"
   ]
  },
  {
   "cell_type": "code",
   "execution_count": 16,
   "id": "e810a6c4",
   "metadata": {
    "execution": {
     "iopub.execute_input": "2022-07-14T13:47:41.087733Z",
     "iopub.status.busy": "2022-07-14T13:47:41.086997Z",
     "iopub.status.idle": "2022-07-14T13:47:41.494327Z",
     "shell.execute_reply": "2022-07-14T13:47:41.493048Z"
    },
    "papermill": {
     "duration": 0.431793,
     "end_time": "2022-07-14T13:47:41.497060",
     "exception": false,
     "start_time": "2022-07-14T13:47:41.065267",
     "status": "completed"
    },
    "tags": []
   },
   "outputs": [
    {
     "data": {
      "text/plain": [
       "<AxesSubplot:xlabel='star_5f', ylabel='Density'>"
      ]
     },
     "execution_count": 16,
     "metadata": {},
     "output_type": "execute_result"
    },
    {
     "data": {
      "image/png": "[encoded data removed]",
      "text/plain": [
       "<Figure size 432x288 with 1 Axes>"
      ]
     },
     "metadata": {
      "needs_background": "light"
     },
     "output_type": "display_data"
    }
   ],
   "source": [
    "sns.distplot(train['star_5f'])"
   ]
  },
  {
   "cell_type": "code",
   "execution_count": 17,
   "id": "ecaad3f3",
   "metadata": {
    "execution": {
     "iopub.execute_input": "2022-07-14T13:47:41.540524Z",
     "iopub.status.busy": "2022-07-14T13:47:41.539835Z",
     "iopub.status.idle": "2022-07-14T13:47:41.690391Z",
     "shell.execute_reply": "2022-07-14T13:47:41.688824Z"
    },
    "papermill": {
     "duration": 0.175352,
     "end_time": "2022-07-14T13:47:41.693193",
     "exception": false,
     "start_time": "2022-07-14T13:47:41.517841",
     "status": "completed"
    },
    "tags": []
   },
   "outputs": [
    {
     "data": {
      "text/plain": [
       "<AxesSubplot:xlabel='fulfilled1', ylabel='count'>"
      ]
     },
     "execution_count": 17,
     "metadata": {},
     "output_type": "execute_result"
    },
    {
     "data": {
      "image/png": "[encoded data removed]",
      "text/plain": [
       "<Figure size 432x288 with 1 Axes>"
      ]
     },
     "metadata": {
      "needs_background": "light"
     },
     "output_type": "display_data"
    }
   ],
   "source": [
    "sns.countplot(train['fulfilled1'])"
   ]
  },
  {
   "cell_type": "code",
   "execution_count": 18,
   "id": "b9e09ab3",
   "metadata": {
    "execution": {
     "iopub.execute_input": "2022-07-14T13:47:41.737481Z",
     "iopub.status.busy": "2022-07-14T13:47:41.737041Z",
     "iopub.status.idle": "2022-07-14T13:47:42.150244Z",
     "shell.execute_reply": "2022-07-14T13:47:42.149175Z"
    },
    "papermill": {
     "duration": 0.438199,
     "end_time": "2022-07-14T13:47:42.152450",
     "exception": false,
     "start_time": "2022-07-14T13:47:41.714251",
     "status": "completed"
    },
    "tags": []
   },
   "outputs": [
    {
     "data": {
      "text/plain": [
       "<AxesSubplot:xlabel='price1', ylabel='Density'>"
      ]
     },
     "execution_count": 18,
     "metadata": {},
     "output_type": "execute_result"
    },
    {
     "data": {
      "image/png": "[encoded data removed]",
      "text/plain": [
       "<Figure size 432x288 with 1 Axes>"
      ]
     },
     "metadata": {
      "needs_background": "light"
     },
     "output_type": "display_data"
    }
   ],
   "source": [
    "sns.distplot(train['price1'])"
   ]
  },
  {
   "cell_type": "code",
   "execution_count": 19,
   "id": "aa9f10c7",
   "metadata": {
    "execution": {
     "iopub.execute_input": "2022-07-14T13:47:42.196423Z",
     "iopub.status.busy": "2022-07-14T13:47:42.195719Z",
     "iopub.status.idle": "2022-07-14T13:47:42.602941Z",
     "shell.execute_reply": "2022-07-14T13:47:42.602153Z"
    },
    "papermill": {
     "duration": 0.431701,
     "end_time": "2022-07-14T13:47:42.605185",
     "exception": false,
     "start_time": "2022-07-14T13:47:42.173484",
     "status": "completed"
    },
    "tags": []
   },
   "outputs": [
    {
     "data": {
      "text/plain": [
       "<AxesSubplot:xlabel='actprice1', ylabel='Density'>"
      ]
     },
     "execution_count": 19,
     "metadata": {},
     "output_type": "execute_result"
    },
    {
     "data": {
      "image/png": "[encoded data removed]",
      "text/plain": [
       "<Figure size 432x288 with 1 Axes>"
      ]
     },
     "metadata": {
      "needs_background": "light"
     },
     "output_type": "display_data"
    }
   ],
   "source": [
    "sns.distplot(train['actprice1'])"
   ]
  },
  {
   "cell_type": "code",
   "execution_count": 20,
   "id": "23a8ddb9",
   "metadata": {
    "execution": {
     "iopub.execute_input": "2022-07-14T13:47:42.650528Z",
     "iopub.status.busy": "2022-07-14T13:47:42.649878Z",
     "iopub.status.idle": "2022-07-14T13:47:42.829340Z",
     "shell.execute_reply": "2022-07-14T13:47:42.828245Z"
    },
    "papermill": {
     "duration": 0.20478,
     "end_time": "2022-07-14T13:47:42.831809",
     "exception": false,
     "start_time": "2022-07-14T13:47:42.627029",
     "status": "completed"
    },
    "tags": []
   },
   "outputs": [
    {
     "data": {
      "text/plain": [
       "<AxesSubplot:xlabel='platform', ylabel='count'>"
      ]
     },
     "execution_count": 20,
     "metadata": {},
     "output_type": "execute_result"
    },
    {
     "data": {
      "image/png": "[encoded data removed]",
      "text/plain": [
       "<Figure size 432x288 with 1 Axes>"
      ]
     },
     "metadata": {
      "needs_background": "light"
     },
     "output_type": "display_data"
    }
   ],
   "source": [
    "sns.countplot(train['platform'])"
   ]
  },
  {
   "cell_type": "code",
   "execution_count": 21,
   "id": "9e923b97",
   "metadata": {
    "execution": {
     "iopub.execute_input": "2022-07-14T13:47:42.878476Z",
     "iopub.status.busy": "2022-07-14T13:47:42.877373Z",
     "iopub.status.idle": "2022-07-14T13:47:43.036286Z",
     "shell.execute_reply": "2022-07-14T13:47:43.035105Z"
    },
    "papermill": {
     "duration": 0.185508,
     "end_time": "2022-07-14T13:47:43.039418",
     "exception": false,
     "start_time": "2022-07-14T13:47:42.853910",
     "status": "completed"
    },
    "tags": []
   },
   "outputs": [
    {
     "data": {
      "text/plain": [
       "<AxesSubplot:xlabel='maincateg', ylabel='count'>"
      ]
     },
     "execution_count": 21,
     "metadata": {},
     "output_type": "execute_result"
    },
    {
     "data": {
      "image/png": "[encoded data removed]",
      "text/plain": [
       "<Figure size 432x288 with 1 Axes>"
      ]
     },
     "metadata": {
      "needs_background": "light"
     },
     "output_type": "display_data"
    }
   ],
   "source": [
    "sns.countplot(train['maincateg'])"
   ]
  },
  {
   "cell_type": "code",
   "execution_count": 22,
   "id": "5a171e3e",
   "metadata": {
    "execution": {
     "iopub.execute_input": "2022-07-14T13:47:43.090165Z",
     "iopub.status.busy": "2022-07-14T13:47:43.089017Z",
     "iopub.status.idle": "2022-07-14T13:47:43.101660Z",
     "shell.execute_reply": "2022-07-14T13:47:43.100826Z"
    },
    "papermill": {
     "duration": 0.039434,
     "end_time": "2022-07-14T13:47:43.104249",
     "exception": false,
     "start_time": "2022-07-14T13:47:43.064815",
     "status": "completed"
    },
    "tags": []
   },
   "outputs": [],
   "source": [
    "df = pd.concat([train,test],axis = 0)"
   ]
  },
  {
   "cell_type": "code",
   "execution_count": 23,
   "id": "bfa14099",
   "metadata": {
    "execution": {
     "iopub.execute_input": "2022-07-14T13:47:43.150846Z",
     "iopub.status.busy": "2022-07-14T13:47:43.150429Z",
     "iopub.status.idle": "2022-07-14T13:47:43.172162Z",
     "shell.execute_reply": "2022-07-14T13:47:43.171309Z"
    },
    "papermill": {
     "duration": 0.047601,
     "end_time": "2022-07-14T13:47:43.174292",
     "exception": false,
     "start_time": "2022-07-14T13:47:43.126691",
     "status": "completed"
    },
    "tags": []
   },
   "outputs": [
    {
     "data": {
      "text/html": [
       "<div>\n",
       "<style scoped>\n",
       "    .dataframe tbody tr th:only-of-type {\n",
       "        vertical-align: middle;\n",
       "    }\n",
       "\n",
       "    .dataframe tbody tr th {\n",
       "        vertical-align: top;\n",
       "    }\n",
       "\n",
       "    .dataframe thead th {\n",
       "        text-align: right;\n",
       "    }\n",
       "</style>\n",
       "<table border=\"1\" class=\"dataframe\">\n",
       "  <thead>\n",
       "    <tr style=\"text-align: right;\">\n",
       "      <th></th>\n",
       "      <th>id</th>\n",
       "      <th>title</th>\n",
       "      <th>Rating</th>\n",
       "      <th>maincateg</th>\n",
       "      <th>platform</th>\n",
       "      <th>price1</th>\n",
       "      <th>actprice1</th>\n",
       "      <th>Offer %</th>\n",
       "      <th>norating1</th>\n",
       "      <th>noreviews1</th>\n",
       "      <th>star_5f</th>\n",
       "      <th>star_4f</th>\n",
       "      <th>star_3f</th>\n",
       "      <th>star_2f</th>\n",
       "      <th>star_1f</th>\n",
       "      <th>fulfilled1</th>\n",
       "    </tr>\n",
       "  </thead>\n",
       "  <tbody>\n",
       "    <tr>\n",
       "      <th>0</th>\n",
       "      <td>16695</td>\n",
       "      <td>Fashionable &amp; Comfortable Bellies For Women  (...</td>\n",
       "      <td>3.9</td>\n",
       "      <td>Women</td>\n",
       "      <td>Flipkart</td>\n",
       "      <td>698.0</td>\n",
       "      <td>999</td>\n",
       "      <td>30.13%</td>\n",
       "      <td>38.0</td>\n",
       "      <td>7.0</td>\n",
       "      <td>17.0</td>\n",
       "      <td>9.0</td>\n",
       "      <td>6.0</td>\n",
       "      <td>3</td>\n",
       "      <td>3.0</td>\n",
       "      <td>0</td>\n",
       "    </tr>\n",
       "    <tr>\n",
       "      <th>1</th>\n",
       "      <td>5120</td>\n",
       "      <td>Combo Pack of 4 Casual Shoes Sneakers For Men ...</td>\n",
       "      <td>3.8</td>\n",
       "      <td>Men</td>\n",
       "      <td>Flipkart</td>\n",
       "      <td>999.0</td>\n",
       "      <td>1999</td>\n",
       "      <td>50.03%</td>\n",
       "      <td>531.0</td>\n",
       "      <td>69.0</td>\n",
       "      <td>264.0</td>\n",
       "      <td>92.0</td>\n",
       "      <td>73.0</td>\n",
       "      <td>29</td>\n",
       "      <td>73.0</td>\n",
       "      <td>1</td>\n",
       "    </tr>\n",
       "    <tr>\n",
       "      <th>2</th>\n",
       "      <td>18391</td>\n",
       "      <td>Cilia Mode Leo Sneakers For Women  (White)</td>\n",
       "      <td>4.4</td>\n",
       "      <td>Women</td>\n",
       "      <td>Flipkart</td>\n",
       "      <td>2749.0</td>\n",
       "      <td>4999</td>\n",
       "      <td>45.01%</td>\n",
       "      <td>17.0</td>\n",
       "      <td>4.0</td>\n",
       "      <td>11.0</td>\n",
       "      <td>3.0</td>\n",
       "      <td>2.0</td>\n",
       "      <td>1</td>\n",
       "      <td>0.0</td>\n",
       "      <td>1</td>\n",
       "    </tr>\n",
       "    <tr>\n",
       "      <th>3</th>\n",
       "      <td>495</td>\n",
       "      <td>Men Black Sports Sandal</td>\n",
       "      <td>4.2</td>\n",
       "      <td>Men</td>\n",
       "      <td>Flipkart</td>\n",
       "      <td>518.0</td>\n",
       "      <td>724</td>\n",
       "      <td>15.85%</td>\n",
       "      <td>46413.0</td>\n",
       "      <td>6229.0</td>\n",
       "      <td>1045.0</td>\n",
       "      <td>12416.0</td>\n",
       "      <td>5352.0</td>\n",
       "      <td>701</td>\n",
       "      <td>4595.0</td>\n",
       "      <td>1</td>\n",
       "    </tr>\n",
       "    <tr>\n",
       "      <th>4</th>\n",
       "      <td>16408</td>\n",
       "      <td>Men Green Sports Sandal</td>\n",
       "      <td>3.9</td>\n",
       "      <td>Men</td>\n",
       "      <td>Flipkart</td>\n",
       "      <td>1379.0</td>\n",
       "      <td>2299</td>\n",
       "      <td>40.02%</td>\n",
       "      <td>77.0</td>\n",
       "      <td>3.0</td>\n",
       "      <td>35.0</td>\n",
       "      <td>21.0</td>\n",
       "      <td>7.0</td>\n",
       "      <td>7</td>\n",
       "      <td>7.0</td>\n",
       "      <td>1</td>\n",
       "    </tr>\n",
       "  </tbody>\n",
       "</table>\n",
       "</div>"
      ],
      "text/plain": [
       "      id                                              title  Rating maincateg  \\\n",
       "0  16695  Fashionable & Comfortable Bellies For Women  (...     3.9     Women   \n",
       "1   5120  Combo Pack of 4 Casual Shoes Sneakers For Men ...     3.8       Men   \n",
       "2  18391         Cilia Mode Leo Sneakers For Women  (White)     4.4     Women   \n",
       "3    495                            Men Black Sports Sandal     4.2       Men   \n",
       "4  16408                            Men Green Sports Sandal     3.9       Men   \n",
       "\n",
       "   platform  price1  actprice1 Offer %  norating1  noreviews1  star_5f  \\\n",
       "0  Flipkart   698.0        999  30.13%       38.0         7.0     17.0   \n",
       "1  Flipkart   999.0       1999  50.03%      531.0        69.0    264.0   \n",
       "2  Flipkart  2749.0       4999  45.01%       17.0         4.0     11.0   \n",
       "3  Flipkart   518.0        724  15.85%    46413.0      6229.0   1045.0   \n",
       "4  Flipkart  1379.0       2299  40.02%       77.0         3.0     35.0   \n",
       "\n",
       "   star_4f  star_3f  star_2f  star_1f  fulfilled1  \n",
       "0      9.0      6.0        3      3.0           0  \n",
       "1     92.0     73.0       29     73.0           1  \n",
       "2      3.0      2.0        1      0.0           1  \n",
       "3  12416.0   5352.0      701   4595.0           1  \n",
       "4     21.0      7.0        7      7.0           1  "
      ]
     },
     "execution_count": 23,
     "metadata": {},
     "output_type": "execute_result"
    }
   ],
   "source": [
    "df.head()"
   ]
  },
  {
   "cell_type": "code",
   "execution_count": 24,
   "id": "e9dc87b3",
   "metadata": {
    "execution": {
     "iopub.execute_input": "2022-07-14T13:47:43.222058Z",
     "iopub.status.busy": "2022-07-14T13:47:43.221460Z",
     "iopub.status.idle": "2022-07-14T13:47:43.242634Z",
     "shell.execute_reply": "2022-07-14T13:47:43.241816Z"
    },
    "papermill": {
     "duration": 0.047633,
     "end_time": "2022-07-14T13:47:43.244691",
     "exception": false,
     "start_time": "2022-07-14T13:47:43.197058",
     "status": "completed"
    },
    "tags": []
   },
   "outputs": [
    {
     "data": {
      "text/html": [
       "<div>\n",
       "<style scoped>\n",
       "    .dataframe tbody tr th:only-of-type {\n",
       "        vertical-align: middle;\n",
       "    }\n",
       "\n",
       "    .dataframe tbody tr th {\n",
       "        vertical-align: top;\n",
       "    }\n",
       "\n",
       "    .dataframe thead th {\n",
       "        text-align: right;\n",
       "    }\n",
       "</style>\n",
       "<table border=\"1\" class=\"dataframe\">\n",
       "  <thead>\n",
       "    <tr style=\"text-align: right;\">\n",
       "      <th></th>\n",
       "      <th>id</th>\n",
       "      <th>title</th>\n",
       "      <th>Rating</th>\n",
       "      <th>maincateg</th>\n",
       "      <th>platform</th>\n",
       "      <th>price1</th>\n",
       "      <th>actprice1</th>\n",
       "      <th>Offer %</th>\n",
       "      <th>norating1</th>\n",
       "      <th>noreviews1</th>\n",
       "      <th>star_5f</th>\n",
       "      <th>star_4f</th>\n",
       "      <th>star_3f</th>\n",
       "      <th>star_2f</th>\n",
       "      <th>star_1f</th>\n",
       "      <th>fulfilled1</th>\n",
       "    </tr>\n",
       "  </thead>\n",
       "  <tbody>\n",
       "    <tr>\n",
       "      <th>5239</th>\n",
       "      <td>14033</td>\n",
       "      <td>Women Off White Flats Sandal</td>\n",
       "      <td>NaN</td>\n",
       "      <td>Women</td>\n",
       "      <td>Flipkart</td>\n",
       "      <td>NaN</td>\n",
       "      <td>699</td>\n",
       "      <td>NaN</td>\n",
       "      <td>1235.0</td>\n",
       "      <td>153.0</td>\n",
       "      <td>NaN</td>\n",
       "      <td>323.0</td>\n",
       "      <td>155.0</td>\n",
       "      <td>62</td>\n",
       "      <td>NaN</td>\n",
       "      <td>1</td>\n",
       "    </tr>\n",
       "    <tr>\n",
       "      <th>5240</th>\n",
       "      <td>297</td>\n",
       "      <td>Slip On For Men  (Tan)</td>\n",
       "      <td>3.9</td>\n",
       "      <td>Men</td>\n",
       "      <td>Flipkart</td>\n",
       "      <td>NaN</td>\n",
       "      <td>1993</td>\n",
       "      <td>NaN</td>\n",
       "      <td>329.0</td>\n",
       "      <td>56.0</td>\n",
       "      <td>350.0</td>\n",
       "      <td>37.0</td>\n",
       "      <td>60.0</td>\n",
       "      <td>5</td>\n",
       "      <td>37.0</td>\n",
       "      <td>0</td>\n",
       "    </tr>\n",
       "    <tr>\n",
       "      <th>5241</th>\n",
       "      <td>18733</td>\n",
       "      <td>Women Grey Heels Sandal</td>\n",
       "      <td>3.8</td>\n",
       "      <td>Women</td>\n",
       "      <td>Flipkart</td>\n",
       "      <td>NaN</td>\n",
       "      <td>999</td>\n",
       "      <td>NaN</td>\n",
       "      <td>1280.0</td>\n",
       "      <td>135.0</td>\n",
       "      <td>574.0</td>\n",
       "      <td>290.0</td>\n",
       "      <td>172.0</td>\n",
       "      <td>94</td>\n",
       "      <td>150.0</td>\n",
       "      <td>0</td>\n",
       "    </tr>\n",
       "    <tr>\n",
       "      <th>5242</th>\n",
       "      <td>6162</td>\n",
       "      <td>Womens Casual Comfort Stylish Black High Heel ...</td>\n",
       "      <td>3.9</td>\n",
       "      <td>Women</td>\n",
       "      <td>Flipkart</td>\n",
       "      <td>NaN</td>\n",
       "      <td>499</td>\n",
       "      <td>NaN</td>\n",
       "      <td>4867.0</td>\n",
       "      <td>574.0</td>\n",
       "      <td>2384.0</td>\n",
       "      <td>974.0</td>\n",
       "      <td>648.0</td>\n",
       "      <td>328</td>\n",
       "      <td>533.0</td>\n",
       "      <td>0</td>\n",
       "    </tr>\n",
       "    <tr>\n",
       "      <th>5243</th>\n",
       "      <td>13574</td>\n",
       "      <td>ZAPATOZ Women's Casual PU Leather Sneaker Shoes</td>\n",
       "      <td>3.9</td>\n",
       "      <td>Women</td>\n",
       "      <td>Amazon</td>\n",
       "      <td>NaN</td>\n",
       "      <td>749</td>\n",
       "      <td>NaN</td>\n",
       "      <td>8.0</td>\n",
       "      <td>5.0</td>\n",
       "      <td>28.0</td>\n",
       "      <td>0.0</td>\n",
       "      <td>0.0</td>\n",
       "      <td>0</td>\n",
       "      <td>72.0</td>\n",
       "      <td>1</td>\n",
       "    </tr>\n",
       "  </tbody>\n",
       "</table>\n",
       "</div>"
      ],
      "text/plain": [
       "         id                                              title  Rating  \\\n",
       "5239  14033                       Women Off White Flats Sandal     NaN   \n",
       "5240    297                             Slip On For Men  (Tan)     3.9   \n",
       "5241  18733                            Women Grey Heels Sandal     3.8   \n",
       "5242   6162  Womens Casual Comfort Stylish Black High Heel ...     3.9   \n",
       "5243  13574    ZAPATOZ Women's Casual PU Leather Sneaker Shoes     3.9   \n",
       "\n",
       "     maincateg  platform  price1  actprice1 Offer %  norating1  noreviews1  \\\n",
       "5239     Women  Flipkart     NaN        699     NaN     1235.0       153.0   \n",
       "5240       Men  Flipkart     NaN       1993     NaN      329.0        56.0   \n",
       "5241     Women  Flipkart     NaN        999     NaN     1280.0       135.0   \n",
       "5242     Women  Flipkart     NaN        499     NaN     4867.0       574.0   \n",
       "5243     Women    Amazon     NaN        749     NaN        8.0         5.0   \n",
       "\n",
       "      star_5f  star_4f  star_3f  star_2f  star_1f  fulfilled1  \n",
       "5239      NaN    323.0    155.0       62      NaN           1  \n",
       "5240    350.0     37.0     60.0        5     37.0           0  \n",
       "5241    574.0    290.0    172.0       94    150.0           0  \n",
       "5242   2384.0    974.0    648.0      328    533.0           0  \n",
       "5243     28.0      0.0      0.0        0     72.0           1  "
      ]
     },
     "execution_count": 24,
     "metadata": {},
     "output_type": "execute_result"
    }
   ],
   "source": [
    "df.tail()"
   ]
  },
  {
   "cell_type": "code",
   "execution_count": 25,
   "id": "51725945",
   "metadata": {
    "execution": {
     "iopub.execute_input": "2022-07-14T13:47:43.293928Z",
     "iopub.status.busy": "2022-07-14T13:47:43.293283Z",
     "iopub.status.idle": "2022-07-14T13:47:43.316679Z",
     "shell.execute_reply": "2022-07-14T13:47:43.315922Z"
    },
    "papermill": {
     "duration": 0.051334,
     "end_time": "2022-07-14T13:47:43.319586",
     "exception": false,
     "start_time": "2022-07-14T13:47:43.268252",
     "status": "completed"
    },
    "tags": []
   },
   "outputs": [
    {
     "name": "stdout",
     "output_type": "stream",
     "text": [
      "<class 'pandas.core.frame.DataFrame'>\n",
      "Int64Index: 20974 entries, 0 to 5243\n",
      "Data columns (total 16 columns):\n",
      " #   Column      Non-Null Count  Dtype  \n",
      "---  ------      --------------  -----  \n",
      " 0   id          20974 non-null  int64  \n",
      " 1   title       20974 non-null  object \n",
      " 2   Rating      20771 non-null  float64\n",
      " 3   maincateg   20381 non-null  object \n",
      " 4   platform    20974 non-null  object \n",
      " 5   price1      15730 non-null  float64\n",
      " 6   actprice1   20974 non-null  int64  \n",
      " 7   Offer %     15730 non-null  object \n",
      " 8   norating1   20296 non-null  float64\n",
      " 9   noreviews1  20396 non-null  float64\n",
      " 10  star_5f     20318 non-null  float64\n",
      " 11  star_4f     20435 non-null  float64\n",
      " 12  star_3f     20743 non-null  float64\n",
      " 13  star_2f     20974 non-null  int64  \n",
      " 14  star_1f     20788 non-null  float64\n",
      " 15  fulfilled1  20974 non-null  int64  \n",
      "dtypes: float64(8), int64(4), object(4)\n",
      "memory usage: 2.7+ MB\n"
     ]
    }
   ],
   "source": [
    "df.info()"
   ]
  },
  {
   "cell_type": "code",
   "execution_count": 26,
   "id": "e7eee2e7",
   "metadata": {
    "execution": {
     "iopub.execute_input": "2022-07-14T13:47:43.368616Z",
     "iopub.status.busy": "2022-07-14T13:47:43.368046Z",
     "iopub.status.idle": "2022-07-14T13:47:43.386498Z",
     "shell.execute_reply": "2022-07-14T13:47:43.385735Z"
    },
    "papermill": {
     "duration": 0.044686,
     "end_time": "2022-07-14T13:47:43.388507",
     "exception": false,
     "start_time": "2022-07-14T13:47:43.343821",
     "status": "completed"
    },
    "tags": []
   },
   "outputs": [
    {
     "data": {
      "text/plain": [
       "id               0\n",
       "title            0\n",
       "Rating         203\n",
       "maincateg      593\n",
       "platform         0\n",
       "price1        5244\n",
       "actprice1        0\n",
       "Offer %       5244\n",
       "norating1      678\n",
       "noreviews1     578\n",
       "star_5f        656\n",
       "star_4f        539\n",
       "star_3f        231\n",
       "star_2f          0\n",
       "star_1f        186\n",
       "fulfilled1       0\n",
       "dtype: int64"
      ]
     },
     "execution_count": 26,
     "metadata": {},
     "output_type": "execute_result"
    }
   ],
   "source": [
    "df.isnull().sum()"
   ]
  },
  {
   "cell_type": "code",
   "execution_count": 27,
   "id": "93ea2ba5",
   "metadata": {
    "execution": {
     "iopub.execute_input": "2022-07-14T13:47:43.436249Z",
     "iopub.status.busy": "2022-07-14T13:47:43.435661Z",
     "iopub.status.idle": "2022-07-14T13:47:43.447047Z",
     "shell.execute_reply": "2022-07-14T13:47:43.446272Z"
    },
    "papermill": {
     "duration": 0.037487,
     "end_time": "2022-07-14T13:47:43.449188",
     "exception": false,
     "start_time": "2022-07-14T13:47:43.411701",
     "status": "completed"
    },
    "tags": []
   },
   "outputs": [],
   "source": [
    "df['Rating'] = df['Rating'].fillna(df['Rating'].mean())\n",
    "df['norating1'] = df['norating1'].fillna(df['norating1'].mean())\n",
    "df['noreviews1'] = df['noreviews1'].fillna(df['noreviews1'].mean())\n",
    "df['star_5f'] = df['star_5f'].fillna(df['star_5f'].mean())\n",
    "df['star_3f'] = df['star_3f'].fillna(df['star_3f'].mean())\n",
    "df['star_4f'] = df['star_4f'].fillna(df['star_4f'].mean())\n",
    "df['star_1f'] = df['star_1f'].fillna(df['star_1f'].mean())"
   ]
  },
  {
   "cell_type": "code",
   "execution_count": 28,
   "id": "c4e4982b",
   "metadata": {
    "execution": {
     "iopub.execute_input": "2022-07-14T13:47:43.497604Z",
     "iopub.status.busy": "2022-07-14T13:47:43.497056Z",
     "iopub.status.idle": "2022-07-14T13:47:43.515840Z",
     "shell.execute_reply": "2022-07-14T13:47:43.515119Z"
    },
    "papermill": {
     "duration": 0.045442,
     "end_time": "2022-07-14T13:47:43.517862",
     "exception": false,
     "start_time": "2022-07-14T13:47:43.472420",
     "status": "completed"
    },
    "tags": []
   },
   "outputs": [
    {
     "data": {
      "text/plain": [
       "id               0\n",
       "title            0\n",
       "Rating           0\n",
       "maincateg      593\n",
       "platform         0\n",
       "price1        5244\n",
       "actprice1        0\n",
       "Offer %       5244\n",
       "norating1        0\n",
       "noreviews1       0\n",
       "star_5f          0\n",
       "star_4f          0\n",
       "star_3f          0\n",
       "star_2f          0\n",
       "star_1f          0\n",
       "fulfilled1       0\n",
       "dtype: int64"
      ]
     },
     "execution_count": 28,
     "metadata": {},
     "output_type": "execute_result"
    }
   ],
   "source": [
    "df.isnull().sum()"
   ]
  },
  {
   "cell_type": "code",
   "execution_count": 29,
   "id": "310a42fc",
   "metadata": {
    "execution": {
     "iopub.execute_input": "2022-07-14T13:47:43.566104Z",
     "iopub.status.busy": "2022-07-14T13:47:43.565520Z",
     "iopub.status.idle": "2022-07-14T13:47:43.576284Z",
     "shell.execute_reply": "2022-07-14T13:47:43.575244Z"
    },
    "papermill": {
     "duration": 0.037439,
     "end_time": "2022-07-14T13:47:43.578531",
     "exception": false,
     "start_time": "2022-07-14T13:47:43.541092",
     "status": "completed"
    },
    "tags": []
   },
   "outputs": [],
   "source": [
    "df['maincateg'] = df['maincateg'].fillna(df['maincateg'].mode()[0])"
   ]
  },
  {
   "cell_type": "code",
   "execution_count": 30,
   "id": "b669b050",
   "metadata": {
    "execution": {
     "iopub.execute_input": "2022-07-14T13:47:43.628305Z",
     "iopub.status.busy": "2022-07-14T13:47:43.627712Z",
     "iopub.status.idle": "2022-07-14T13:47:43.645998Z",
     "shell.execute_reply": "2022-07-14T13:47:43.645212Z"
    },
    "papermill": {
     "duration": 0.045816,
     "end_time": "2022-07-14T13:47:43.648107",
     "exception": false,
     "start_time": "2022-07-14T13:47:43.602291",
     "status": "completed"
    },
    "tags": []
   },
   "outputs": [
    {
     "data": {
      "text/plain": [
       "id               0\n",
       "title            0\n",
       "Rating           0\n",
       "maincateg        0\n",
       "platform         0\n",
       "price1        5244\n",
       "actprice1        0\n",
       "Offer %       5244\n",
       "norating1        0\n",
       "noreviews1       0\n",
       "star_5f          0\n",
       "star_4f          0\n",
       "star_3f          0\n",
       "star_2f          0\n",
       "star_1f          0\n",
       "fulfilled1       0\n",
       "dtype: int64"
      ]
     },
     "execution_count": 30,
     "metadata": {},
     "output_type": "execute_result"
    }
   ],
   "source": [
    "df.isnull().sum()"
   ]
  },
  {
   "cell_type": "markdown",
   "id": "4753c116",
   "metadata": {
    "papermill": {
     "duration": 0.023028,
     "end_time": "2022-07-14T13:47:43.694430",
     "exception": false,
     "start_time": "2022-07-14T13:47:43.671402",
     "status": "completed"
    },
    "tags": []
   },
   "source": [
    "## Log Transformation for Uniform distribution"
   ]
  },
  {
   "cell_type": "code",
   "execution_count": 31,
   "id": "2448c034",
   "metadata": {
    "execution": {
     "iopub.execute_input": "2022-07-14T13:47:43.742755Z",
     "iopub.status.busy": "2022-07-14T13:47:43.742188Z",
     "iopub.status.idle": "2022-07-14T13:47:43.749095Z",
     "shell.execute_reply": "2022-07-14T13:47:43.748317Z"
    },
    "papermill": {
     "duration": 0.033537,
     "end_time": "2022-07-14T13:47:43.751208",
     "exception": false,
     "start_time": "2022-07-14T13:47:43.717671",
     "status": "completed"
    },
    "tags": []
   },
   "outputs": [],
   "source": [
    "df['logactprice'] = np.log(df['actprice1']+1)\n",
    "df['logprice'] = np.log(df['price1']+1)"
   ]
  },
  {
   "cell_type": "code",
   "execution_count": 32,
   "id": "c6badef2",
   "metadata": {
    "execution": {
     "iopub.execute_input": "2022-07-14T13:47:43.801285Z",
     "iopub.status.busy": "2022-07-14T13:47:43.800675Z",
     "iopub.status.idle": "2022-07-14T13:47:43.823588Z",
     "shell.execute_reply": "2022-07-14T13:47:43.822763Z"
    },
    "papermill": {
     "duration": 0.050941,
     "end_time": "2022-07-14T13:47:43.825823",
     "exception": false,
     "start_time": "2022-07-14T13:47:43.774882",
     "status": "completed"
    },
    "tags": []
   },
   "outputs": [
    {
     "data": {
      "text/html": [
       "<div>\n",
       "<style scoped>\n",
       "    .dataframe tbody tr th:only-of-type {\n",
       "        vertical-align: middle;\n",
       "    }\n",
       "\n",
       "    .dataframe tbody tr th {\n",
       "        vertical-align: top;\n",
       "    }\n",
       "\n",
       "    .dataframe thead th {\n",
       "        text-align: right;\n",
       "    }\n",
       "</style>\n",
       "<table border=\"1\" class=\"dataframe\">\n",
       "  <thead>\n",
       "    <tr style=\"text-align: right;\">\n",
       "      <th></th>\n",
       "      <th>id</th>\n",
       "      <th>title</th>\n",
       "      <th>Rating</th>\n",
       "      <th>maincateg</th>\n",
       "      <th>platform</th>\n",
       "      <th>price1</th>\n",
       "      <th>actprice1</th>\n",
       "      <th>Offer %</th>\n",
       "      <th>norating1</th>\n",
       "      <th>noreviews1</th>\n",
       "      <th>star_5f</th>\n",
       "      <th>star_4f</th>\n",
       "      <th>star_3f</th>\n",
       "      <th>star_2f</th>\n",
       "      <th>star_1f</th>\n",
       "      <th>fulfilled1</th>\n",
       "      <th>logactprice</th>\n",
       "      <th>logprice</th>\n",
       "    </tr>\n",
       "  </thead>\n",
       "  <tbody>\n",
       "    <tr>\n",
       "      <th>0</th>\n",
       "      <td>16695</td>\n",
       "      <td>Fashionable &amp; Comfortable Bellies For Women  (...</td>\n",
       "      <td>3.9</td>\n",
       "      <td>Women</td>\n",
       "      <td>Flipkart</td>\n",
       "      <td>698.0</td>\n",
       "      <td>999</td>\n",
       "      <td>30.13%</td>\n",
       "      <td>38.0</td>\n",
       "      <td>7.0</td>\n",
       "      <td>17.0</td>\n",
       "      <td>9.0</td>\n",
       "      <td>6.0</td>\n",
       "      <td>3</td>\n",
       "      <td>3.0</td>\n",
       "      <td>0</td>\n",
       "      <td>6.907755</td>\n",
       "      <td>6.549651</td>\n",
       "    </tr>\n",
       "    <tr>\n",
       "      <th>1</th>\n",
       "      <td>5120</td>\n",
       "      <td>Combo Pack of 4 Casual Shoes Sneakers For Men ...</td>\n",
       "      <td>3.8</td>\n",
       "      <td>Men</td>\n",
       "      <td>Flipkart</td>\n",
       "      <td>999.0</td>\n",
       "      <td>1999</td>\n",
       "      <td>50.03%</td>\n",
       "      <td>531.0</td>\n",
       "      <td>69.0</td>\n",
       "      <td>264.0</td>\n",
       "      <td>92.0</td>\n",
       "      <td>73.0</td>\n",
       "      <td>29</td>\n",
       "      <td>73.0</td>\n",
       "      <td>1</td>\n",
       "      <td>7.600902</td>\n",
       "      <td>6.907755</td>\n",
       "    </tr>\n",
       "    <tr>\n",
       "      <th>2</th>\n",
       "      <td>18391</td>\n",
       "      <td>Cilia Mode Leo Sneakers For Women  (White)</td>\n",
       "      <td>4.4</td>\n",
       "      <td>Women</td>\n",
       "      <td>Flipkart</td>\n",
       "      <td>2749.0</td>\n",
       "      <td>4999</td>\n",
       "      <td>45.01%</td>\n",
       "      <td>17.0</td>\n",
       "      <td>4.0</td>\n",
       "      <td>11.0</td>\n",
       "      <td>3.0</td>\n",
       "      <td>2.0</td>\n",
       "      <td>1</td>\n",
       "      <td>0.0</td>\n",
       "      <td>1</td>\n",
       "      <td>8.517193</td>\n",
       "      <td>7.919356</td>\n",
       "    </tr>\n",
       "    <tr>\n",
       "      <th>3</th>\n",
       "      <td>495</td>\n",
       "      <td>Men Black Sports Sandal</td>\n",
       "      <td>4.2</td>\n",
       "      <td>Men</td>\n",
       "      <td>Flipkart</td>\n",
       "      <td>518.0</td>\n",
       "      <td>724</td>\n",
       "      <td>15.85%</td>\n",
       "      <td>46413.0</td>\n",
       "      <td>6229.0</td>\n",
       "      <td>1045.0</td>\n",
       "      <td>12416.0</td>\n",
       "      <td>5352.0</td>\n",
       "      <td>701</td>\n",
       "      <td>4595.0</td>\n",
       "      <td>1</td>\n",
       "      <td>6.586172</td>\n",
       "      <td>6.251904</td>\n",
       "    </tr>\n",
       "    <tr>\n",
       "      <th>4</th>\n",
       "      <td>16408</td>\n",
       "      <td>Men Green Sports Sandal</td>\n",
       "      <td>3.9</td>\n",
       "      <td>Men</td>\n",
       "      <td>Flipkart</td>\n",
       "      <td>1379.0</td>\n",
       "      <td>2299</td>\n",
       "      <td>40.02%</td>\n",
       "      <td>77.0</td>\n",
       "      <td>3.0</td>\n",
       "      <td>35.0</td>\n",
       "      <td>21.0</td>\n",
       "      <td>7.0</td>\n",
       "      <td>7</td>\n",
       "      <td>7.0</td>\n",
       "      <td>1</td>\n",
       "      <td>7.740664</td>\n",
       "      <td>7.229839</td>\n",
       "    </tr>\n",
       "  </tbody>\n",
       "</table>\n",
       "</div>"
      ],
      "text/plain": [
       "      id                                              title  Rating maincateg  \\\n",
       "0  16695  Fashionable & Comfortable Bellies For Women  (...     3.9     Women   \n",
       "1   5120  Combo Pack of 4 Casual Shoes Sneakers For Men ...     3.8       Men   \n",
       "2  18391         Cilia Mode Leo Sneakers For Women  (White)     4.4     Women   \n",
       "3    495                            Men Black Sports Sandal     4.2       Men   \n",
       "4  16408                            Men Green Sports Sandal     3.9       Men   \n",
       "\n",
       "   platform  price1  actprice1 Offer %  norating1  noreviews1  star_5f  \\\n",
       "0  Flipkart   698.0        999  30.13%       38.0         7.0     17.0   \n",
       "1  Flipkart   999.0       1999  50.03%      531.0        69.0    264.0   \n",
       "2  Flipkart  2749.0       4999  45.01%       17.0         4.0     11.0   \n",
       "3  Flipkart   518.0        724  15.85%    46413.0      6229.0   1045.0   \n",
       "4  Flipkart  1379.0       2299  40.02%       77.0         3.0     35.0   \n",
       "\n",
       "   star_4f  star_3f  star_2f  star_1f  fulfilled1  logactprice  logprice  \n",
       "0      9.0      6.0        3      3.0           0     6.907755  6.549651  \n",
       "1     92.0     73.0       29     73.0           1     7.600902  6.907755  \n",
       "2      3.0      2.0        1      0.0           1     8.517193  7.919356  \n",
       "3  12416.0   5352.0      701   4595.0           1     6.586172  6.251904  \n",
       "4     21.0      7.0        7      7.0           1     7.740664  7.229839  "
      ]
     },
     "execution_count": 32,
     "metadata": {},
     "output_type": "execute_result"
    }
   ],
   "source": [
    "df.head()"
   ]
  },
  {
   "cell_type": "code",
   "execution_count": 33,
   "id": "845e7448",
   "metadata": {
    "execution": {
     "iopub.execute_input": "2022-07-14T13:47:43.876340Z",
     "iopub.status.busy": "2022-07-14T13:47:43.875793Z",
     "iopub.status.idle": "2022-07-14T13:47:43.888695Z",
     "shell.execute_reply": "2022-07-14T13:47:43.887809Z"
    },
    "papermill": {
     "duration": 0.040696,
     "end_time": "2022-07-14T13:47:43.891087",
     "exception": false,
     "start_time": "2022-07-14T13:47:43.850391",
     "status": "completed"
    },
    "tags": []
   },
   "outputs": [],
   "source": [
    "df.drop(columns = ['title','price1','actprice1','Offer %'],axis =1,inplace = True)"
   ]
  },
  {
   "cell_type": "code",
   "execution_count": 34,
   "id": "5f32932f",
   "metadata": {
    "execution": {
     "iopub.execute_input": "2022-07-14T13:47:43.940739Z",
     "iopub.status.busy": "2022-07-14T13:47:43.940170Z",
     "iopub.status.idle": "2022-07-14T13:47:43.964091Z",
     "shell.execute_reply": "2022-07-14T13:47:43.962084Z"
    },
    "papermill": {
     "duration": 0.052332,
     "end_time": "2022-07-14T13:47:43.967267",
     "exception": false,
     "start_time": "2022-07-14T13:47:43.914935",
     "status": "completed"
    },
    "tags": []
   },
   "outputs": [
    {
     "data": {
      "text/html": [
       "<div>\n",
       "<style scoped>\n",
       "    .dataframe tbody tr th:only-of-type {\n",
       "        vertical-align: middle;\n",
       "    }\n",
       "\n",
       "    .dataframe tbody tr th {\n",
       "        vertical-align: top;\n",
       "    }\n",
       "\n",
       "    .dataframe thead th {\n",
       "        text-align: right;\n",
       "    }\n",
       "</style>\n",
       "<table border=\"1\" class=\"dataframe\">\n",
       "  <thead>\n",
       "    <tr style=\"text-align: right;\">\n",
       "      <th></th>\n",
       "      <th>id</th>\n",
       "      <th>Rating</th>\n",
       "      <th>maincateg</th>\n",
       "      <th>platform</th>\n",
       "      <th>norating1</th>\n",
       "      <th>noreviews1</th>\n",
       "      <th>star_5f</th>\n",
       "      <th>star_4f</th>\n",
       "      <th>star_3f</th>\n",
       "      <th>star_2f</th>\n",
       "      <th>star_1f</th>\n",
       "      <th>fulfilled1</th>\n",
       "      <th>logactprice</th>\n",
       "      <th>logprice</th>\n",
       "    </tr>\n",
       "  </thead>\n",
       "  <tbody>\n",
       "    <tr>\n",
       "      <th>0</th>\n",
       "      <td>16695</td>\n",
       "      <td>3.9</td>\n",
       "      <td>Women</td>\n",
       "      <td>Flipkart</td>\n",
       "      <td>38.0</td>\n",
       "      <td>7.0</td>\n",
       "      <td>17.0</td>\n",
       "      <td>9.0</td>\n",
       "      <td>6.0</td>\n",
       "      <td>3</td>\n",
       "      <td>3.0</td>\n",
       "      <td>0</td>\n",
       "      <td>6.907755</td>\n",
       "      <td>6.549651</td>\n",
       "    </tr>\n",
       "    <tr>\n",
       "      <th>1</th>\n",
       "      <td>5120</td>\n",
       "      <td>3.8</td>\n",
       "      <td>Men</td>\n",
       "      <td>Flipkart</td>\n",
       "      <td>531.0</td>\n",
       "      <td>69.0</td>\n",
       "      <td>264.0</td>\n",
       "      <td>92.0</td>\n",
       "      <td>73.0</td>\n",
       "      <td>29</td>\n",
       "      <td>73.0</td>\n",
       "      <td>1</td>\n",
       "      <td>7.600902</td>\n",
       "      <td>6.907755</td>\n",
       "    </tr>\n",
       "    <tr>\n",
       "      <th>2</th>\n",
       "      <td>18391</td>\n",
       "      <td>4.4</td>\n",
       "      <td>Women</td>\n",
       "      <td>Flipkart</td>\n",
       "      <td>17.0</td>\n",
       "      <td>4.0</td>\n",
       "      <td>11.0</td>\n",
       "      <td>3.0</td>\n",
       "      <td>2.0</td>\n",
       "      <td>1</td>\n",
       "      <td>0.0</td>\n",
       "      <td>1</td>\n",
       "      <td>8.517193</td>\n",
       "      <td>7.919356</td>\n",
       "    </tr>\n",
       "    <tr>\n",
       "      <th>3</th>\n",
       "      <td>495</td>\n",
       "      <td>4.2</td>\n",
       "      <td>Men</td>\n",
       "      <td>Flipkart</td>\n",
       "      <td>46413.0</td>\n",
       "      <td>6229.0</td>\n",
       "      <td>1045.0</td>\n",
       "      <td>12416.0</td>\n",
       "      <td>5352.0</td>\n",
       "      <td>701</td>\n",
       "      <td>4595.0</td>\n",
       "      <td>1</td>\n",
       "      <td>6.586172</td>\n",
       "      <td>6.251904</td>\n",
       "    </tr>\n",
       "    <tr>\n",
       "      <th>4</th>\n",
       "      <td>16408</td>\n",
       "      <td>3.9</td>\n",
       "      <td>Men</td>\n",
       "      <td>Flipkart</td>\n",
       "      <td>77.0</td>\n",
       "      <td>3.0</td>\n",
       "      <td>35.0</td>\n",
       "      <td>21.0</td>\n",
       "      <td>7.0</td>\n",
       "      <td>7</td>\n",
       "      <td>7.0</td>\n",
       "      <td>1</td>\n",
       "      <td>7.740664</td>\n",
       "      <td>7.229839</td>\n",
       "    </tr>\n",
       "  </tbody>\n",
       "</table>\n",
       "</div>"
      ],
      "text/plain": [
       "      id  Rating maincateg  platform  norating1  noreviews1  star_5f  star_4f  \\\n",
       "0  16695     3.9     Women  Flipkart       38.0         7.0     17.0      9.0   \n",
       "1   5120     3.8       Men  Flipkart      531.0        69.0    264.0     92.0   \n",
       "2  18391     4.4     Women  Flipkart       17.0         4.0     11.0      3.0   \n",
       "3    495     4.2       Men  Flipkart    46413.0      6229.0   1045.0  12416.0   \n",
       "4  16408     3.9       Men  Flipkart       77.0         3.0     35.0     21.0   \n",
       "\n",
       "   star_3f  star_2f  star_1f  fulfilled1  logactprice  logprice  \n",
       "0      6.0        3      3.0           0     6.907755  6.549651  \n",
       "1     73.0       29     73.0           1     7.600902  6.907755  \n",
       "2      2.0        1      0.0           1     8.517193  7.919356  \n",
       "3   5352.0      701   4595.0           1     6.586172  6.251904  \n",
       "4      7.0        7      7.0           1     7.740664  7.229839  "
      ]
     },
     "execution_count": 34,
     "metadata": {},
     "output_type": "execute_result"
    }
   ],
   "source": [
    "df.head()"
   ]
  },
  {
   "cell_type": "code",
   "execution_count": 35,
   "id": "c46e44ba",
   "metadata": {
    "execution": {
     "iopub.execute_input": "2022-07-14T13:47:44.019453Z",
     "iopub.status.busy": "2022-07-14T13:47:44.018395Z",
     "iopub.status.idle": "2022-07-14T13:47:44.038777Z",
     "shell.execute_reply": "2022-07-14T13:47:44.037664Z"
    },
    "papermill": {
     "duration": 0.048461,
     "end_time": "2022-07-14T13:47:44.041002",
     "exception": false,
     "start_time": "2022-07-14T13:47:43.992541",
     "status": "completed"
    },
    "tags": []
   },
   "outputs": [
    {
     "data": {
      "text/html": [
       "<div>\n",
       "<style scoped>\n",
       "    .dataframe tbody tr th:only-of-type {\n",
       "        vertical-align: middle;\n",
       "    }\n",
       "\n",
       "    .dataframe tbody tr th {\n",
       "        vertical-align: top;\n",
       "    }\n",
       "\n",
       "    .dataframe thead th {\n",
       "        text-align: right;\n",
       "    }\n",
       "</style>\n",
       "<table border=\"1\" class=\"dataframe\">\n",
       "  <thead>\n",
       "    <tr style=\"text-align: right;\">\n",
       "      <th></th>\n",
       "      <th>id</th>\n",
       "      <th>Rating</th>\n",
       "      <th>maincateg</th>\n",
       "      <th>platform</th>\n",
       "      <th>norating1</th>\n",
       "      <th>noreviews1</th>\n",
       "      <th>star_5f</th>\n",
       "      <th>star_4f</th>\n",
       "      <th>star_3f</th>\n",
       "      <th>star_2f</th>\n",
       "      <th>star_1f</th>\n",
       "      <th>fulfilled1</th>\n",
       "      <th>logactprice</th>\n",
       "      <th>logprice</th>\n",
       "    </tr>\n",
       "  </thead>\n",
       "  <tbody>\n",
       "    <tr>\n",
       "      <th>5239</th>\n",
       "      <td>14033</td>\n",
       "      <td>4.01244</td>\n",
       "      <td>Women</td>\n",
       "      <td>Flipkart</td>\n",
       "      <td>1235.0</td>\n",
       "      <td>153.0</td>\n",
       "      <td>1578.158382</td>\n",
       "      <td>323.0</td>\n",
       "      <td>155.0</td>\n",
       "      <td>62</td>\n",
       "      <td>274.258996</td>\n",
       "      <td>1</td>\n",
       "      <td>6.551080</td>\n",
       "      <td>NaN</td>\n",
       "    </tr>\n",
       "    <tr>\n",
       "      <th>5240</th>\n",
       "      <td>297</td>\n",
       "      <td>3.90000</td>\n",
       "      <td>Men</td>\n",
       "      <td>Flipkart</td>\n",
       "      <td>329.0</td>\n",
       "      <td>56.0</td>\n",
       "      <td>350.000000</td>\n",
       "      <td>37.0</td>\n",
       "      <td>60.0</td>\n",
       "      <td>5</td>\n",
       "      <td>37.000000</td>\n",
       "      <td>0</td>\n",
       "      <td>7.597898</td>\n",
       "      <td>NaN</td>\n",
       "    </tr>\n",
       "    <tr>\n",
       "      <th>5241</th>\n",
       "      <td>18733</td>\n",
       "      <td>3.80000</td>\n",
       "      <td>Women</td>\n",
       "      <td>Flipkart</td>\n",
       "      <td>1280.0</td>\n",
       "      <td>135.0</td>\n",
       "      <td>574.000000</td>\n",
       "      <td>290.0</td>\n",
       "      <td>172.0</td>\n",
       "      <td>94</td>\n",
       "      <td>150.000000</td>\n",
       "      <td>0</td>\n",
       "      <td>6.907755</td>\n",
       "      <td>NaN</td>\n",
       "    </tr>\n",
       "    <tr>\n",
       "      <th>5242</th>\n",
       "      <td>6162</td>\n",
       "      <td>3.90000</td>\n",
       "      <td>Women</td>\n",
       "      <td>Flipkart</td>\n",
       "      <td>4867.0</td>\n",
       "      <td>574.0</td>\n",
       "      <td>2384.000000</td>\n",
       "      <td>974.0</td>\n",
       "      <td>648.0</td>\n",
       "      <td>328</td>\n",
       "      <td>533.000000</td>\n",
       "      <td>0</td>\n",
       "      <td>6.214608</td>\n",
       "      <td>NaN</td>\n",
       "    </tr>\n",
       "    <tr>\n",
       "      <th>5243</th>\n",
       "      <td>13574</td>\n",
       "      <td>3.90000</td>\n",
       "      <td>Women</td>\n",
       "      <td>Amazon</td>\n",
       "      <td>8.0</td>\n",
       "      <td>5.0</td>\n",
       "      <td>28.000000</td>\n",
       "      <td>0.0</td>\n",
       "      <td>0.0</td>\n",
       "      <td>0</td>\n",
       "      <td>72.000000</td>\n",
       "      <td>1</td>\n",
       "      <td>6.620073</td>\n",
       "      <td>NaN</td>\n",
       "    </tr>\n",
       "  </tbody>\n",
       "</table>\n",
       "</div>"
      ],
      "text/plain": [
       "         id   Rating maincateg  platform  norating1  noreviews1      star_5f  \\\n",
       "5239  14033  4.01244     Women  Flipkart     1235.0       153.0  1578.158382   \n",
       "5240    297  3.90000       Men  Flipkart      329.0        56.0   350.000000   \n",
       "5241  18733  3.80000     Women  Flipkart     1280.0       135.0   574.000000   \n",
       "5242   6162  3.90000     Women  Flipkart     4867.0       574.0  2384.000000   \n",
       "5243  13574  3.90000     Women    Amazon        8.0         5.0    28.000000   \n",
       "\n",
       "      star_4f  star_3f  star_2f     star_1f  fulfilled1  logactprice  logprice  \n",
       "5239    323.0    155.0       62  274.258996           1     6.551080       NaN  \n",
       "5240     37.0     60.0        5   37.000000           0     7.597898       NaN  \n",
       "5241    290.0    172.0       94  150.000000           0     6.907755       NaN  \n",
       "5242    974.0    648.0      328  533.000000           0     6.214608       NaN  \n",
       "5243      0.0      0.0        0   72.000000           1     6.620073       NaN  "
      ]
     },
     "execution_count": 35,
     "metadata": {},
     "output_type": "execute_result"
    }
   ],
   "source": [
    "df.tail()"
   ]
  },
  {
   "cell_type": "code",
   "execution_count": 36,
   "id": "0c94d9ee",
   "metadata": {
    "execution": {
     "iopub.execute_input": "2022-07-14T13:47:44.092100Z",
     "iopub.status.busy": "2022-07-14T13:47:44.091231Z",
     "iopub.status.idle": "2022-07-14T13:47:44.126431Z",
     "shell.execute_reply": "2022-07-14T13:47:44.125381Z"
    },
    "papermill": {
     "duration": 0.06333,
     "end_time": "2022-07-14T13:47:44.128726",
     "exception": false,
     "start_time": "2022-07-14T13:47:44.065396",
     "status": "completed"
    },
    "tags": []
   },
   "outputs": [
    {
     "data": {
      "text/html": [
       "<div>\n",
       "<style scoped>\n",
       "    .dataframe tbody tr th:only-of-type {\n",
       "        vertical-align: middle;\n",
       "    }\n",
       "\n",
       "    .dataframe tbody tr th {\n",
       "        vertical-align: top;\n",
       "    }\n",
       "\n",
       "    .dataframe thead th {\n",
       "        text-align: right;\n",
       "    }\n",
       "</style>\n",
       "<table border=\"1\" class=\"dataframe\">\n",
       "  <thead>\n",
       "    <tr style=\"text-align: right;\">\n",
       "      <th></th>\n",
       "      <th>id</th>\n",
       "      <th>Rating</th>\n",
       "      <th>maincateg</th>\n",
       "      <th>platform</th>\n",
       "      <th>norating1</th>\n",
       "      <th>noreviews1</th>\n",
       "      <th>star_5f</th>\n",
       "      <th>star_4f</th>\n",
       "      <th>star_3f</th>\n",
       "      <th>star_2f</th>\n",
       "      <th>star_1f</th>\n",
       "      <th>fulfilled1</th>\n",
       "      <th>logactprice</th>\n",
       "      <th>logprice</th>\n",
       "    </tr>\n",
       "  </thead>\n",
       "  <tbody>\n",
       "    <tr>\n",
       "      <th>0</th>\n",
       "      <td>16695</td>\n",
       "      <td>3.9</td>\n",
       "      <td>1</td>\n",
       "      <td>1</td>\n",
       "      <td>38.0</td>\n",
       "      <td>7.0</td>\n",
       "      <td>17.0</td>\n",
       "      <td>9.0</td>\n",
       "      <td>6.0</td>\n",
       "      <td>3</td>\n",
       "      <td>3.0</td>\n",
       "      <td>0</td>\n",
       "      <td>6.907755</td>\n",
       "      <td>6.549651</td>\n",
       "    </tr>\n",
       "    <tr>\n",
       "      <th>1</th>\n",
       "      <td>5120</td>\n",
       "      <td>3.8</td>\n",
       "      <td>0</td>\n",
       "      <td>1</td>\n",
       "      <td>531.0</td>\n",
       "      <td>69.0</td>\n",
       "      <td>264.0</td>\n",
       "      <td>92.0</td>\n",
       "      <td>73.0</td>\n",
       "      <td>29</td>\n",
       "      <td>73.0</td>\n",
       "      <td>1</td>\n",
       "      <td>7.600902</td>\n",
       "      <td>6.907755</td>\n",
       "    </tr>\n",
       "    <tr>\n",
       "      <th>2</th>\n",
       "      <td>18391</td>\n",
       "      <td>4.4</td>\n",
       "      <td>1</td>\n",
       "      <td>1</td>\n",
       "      <td>17.0</td>\n",
       "      <td>4.0</td>\n",
       "      <td>11.0</td>\n",
       "      <td>3.0</td>\n",
       "      <td>2.0</td>\n",
       "      <td>1</td>\n",
       "      <td>0.0</td>\n",
       "      <td>1</td>\n",
       "      <td>8.517193</td>\n",
       "      <td>7.919356</td>\n",
       "    </tr>\n",
       "    <tr>\n",
       "      <th>3</th>\n",
       "      <td>495</td>\n",
       "      <td>4.2</td>\n",
       "      <td>0</td>\n",
       "      <td>1</td>\n",
       "      <td>46413.0</td>\n",
       "      <td>6229.0</td>\n",
       "      <td>1045.0</td>\n",
       "      <td>12416.0</td>\n",
       "      <td>5352.0</td>\n",
       "      <td>701</td>\n",
       "      <td>4595.0</td>\n",
       "      <td>1</td>\n",
       "      <td>6.586172</td>\n",
       "      <td>6.251904</td>\n",
       "    </tr>\n",
       "    <tr>\n",
       "      <th>4</th>\n",
       "      <td>16408</td>\n",
       "      <td>3.9</td>\n",
       "      <td>0</td>\n",
       "      <td>1</td>\n",
       "      <td>77.0</td>\n",
       "      <td>3.0</td>\n",
       "      <td>35.0</td>\n",
       "      <td>21.0</td>\n",
       "      <td>7.0</td>\n",
       "      <td>7</td>\n",
       "      <td>7.0</td>\n",
       "      <td>1</td>\n",
       "      <td>7.740664</td>\n",
       "      <td>7.229839</td>\n",
       "    </tr>\n",
       "  </tbody>\n",
       "</table>\n",
       "</div>"
      ],
      "text/plain": [
       "      id  Rating  maincateg  platform  norating1  noreviews1  star_5f  \\\n",
       "0  16695     3.9          1         1       38.0         7.0     17.0   \n",
       "1   5120     3.8          0         1      531.0        69.0    264.0   \n",
       "2  18391     4.4          1         1       17.0         4.0     11.0   \n",
       "3    495     4.2          0         1    46413.0      6229.0   1045.0   \n",
       "4  16408     3.9          0         1       77.0         3.0     35.0   \n",
       "\n",
       "   star_4f  star_3f  star_2f  star_1f  fulfilled1  logactprice  logprice  \n",
       "0      9.0      6.0        3      3.0           0     6.907755  6.549651  \n",
       "1     92.0     73.0       29     73.0           1     7.600902  6.907755  \n",
       "2      3.0      2.0        1      0.0           1     8.517193  7.919356  \n",
       "3  12416.0   5352.0      701   4595.0           1     6.586172  6.251904  \n",
       "4     21.0      7.0        7      7.0           1     7.740664  7.229839  "
      ]
     },
     "execution_count": 36,
     "metadata": {},
     "output_type": "execute_result"
    }
   ],
   "source": [
    "cols = ['platform','maincateg']\n",
    "le = LabelEncoder()\n",
    "for col in cols:\n",
    "    df[col] = le.fit_transform(df[col])\n",
    "df.head()"
   ]
  },
  {
   "cell_type": "code",
   "execution_count": 37,
   "id": "adf895c1",
   "metadata": {
    "execution": {
     "iopub.execute_input": "2022-07-14T13:47:44.180197Z",
     "iopub.status.busy": "2022-07-14T13:47:44.179831Z",
     "iopub.status.idle": "2022-07-14T13:47:45.401194Z",
     "shell.execute_reply": "2022-07-14T13:47:45.399984Z"
    },
    "papermill": {
     "duration": 1.250527,
     "end_time": "2022-07-14T13:47:45.404520",
     "exception": false,
     "start_time": "2022-07-14T13:47:44.153993",
     "status": "completed"
    },
    "tags": []
   },
   "outputs": [
    {
     "data": {
      "text/plain": [
       "<AxesSubplot:>"
      ]
     },
     "execution_count": 37,
     "metadata": {},
     "output_type": "execute_result"
    },
    {
     "data": {
      "image/png": "[encoded data removed]",
      "text/plain": [
       "<Figure size 1080x648 with 2 Axes>"
      ]
     },
     "metadata": {
      "needs_background": "light"
     },
     "output_type": "display_data"
    }
   ],
   "source": [
    "corr = df.corr()\n",
    "plt.figure(figsize=(15, 9))\n",
    "sns.heatmap(corr, annot=True, cmap='coolwarm')"
   ]
  },
  {
   "cell_type": "markdown",
   "id": "85a385dc",
   "metadata": {
    "papermill": {
     "duration": 0.026366,
     "end_time": "2022-07-14T13:47:45.458733",
     "exception": false,
     "start_time": "2022-07-14T13:47:45.432367",
     "status": "completed"
    },
    "tags": []
   },
   "source": [
    "## Train Test Split"
   ]
  },
  {
   "cell_type": "code",
   "execution_count": 38,
   "id": "142a3d0f",
   "metadata": {
    "execution": {
     "iopub.execute_input": "2022-07-14T13:47:45.515335Z",
     "iopub.status.busy": "2022-07-14T13:47:45.514205Z",
     "iopub.status.idle": "2022-07-14T13:47:45.519623Z",
     "shell.execute_reply": "2022-07-14T13:47:45.518809Z"
    },
    "papermill": {
     "duration": 0.036266,
     "end_time": "2022-07-14T13:47:45.521662",
     "exception": false,
     "start_time": "2022-07-14T13:47:45.485396",
     "status": "completed"
    },
    "tags": []
   },
   "outputs": [],
   "source": [
    "train = df.iloc[: train_len, :]\n",
    "test = df.iloc[train_len : , :]"
   ]
  },
  {
   "cell_type": "code",
   "execution_count": 39,
   "id": "6ef2bfd5",
   "metadata": {
    "execution": {
     "iopub.execute_input": "2022-07-14T13:47:45.577878Z",
     "iopub.status.busy": "2022-07-14T13:47:45.577458Z",
     "iopub.status.idle": "2022-07-14T13:47:45.583492Z",
     "shell.execute_reply": "2022-07-14T13:47:45.582719Z"
    },
    "papermill": {
     "duration": 0.036291,
     "end_time": "2022-07-14T13:47:45.585542",
     "exception": false,
     "start_time": "2022-07-14T13:47:45.549251",
     "status": "completed"
    },
    "tags": []
   },
   "outputs": [
    {
     "data": {
      "text/plain": [
       "(15730, 14)"
      ]
     },
     "execution_count": 39,
     "metadata": {},
     "output_type": "execute_result"
    }
   ],
   "source": [
    "train.shape"
   ]
  },
  {
   "cell_type": "code",
   "execution_count": 40,
   "id": "6751e9fe",
   "metadata": {
    "execution": {
     "iopub.execute_input": "2022-07-14T13:47:45.642334Z",
     "iopub.status.busy": "2022-07-14T13:47:45.641654Z",
     "iopub.status.idle": "2022-07-14T13:47:45.647834Z",
     "shell.execute_reply": "2022-07-14T13:47:45.646805Z"
    },
    "papermill": {
     "duration": 0.037392,
     "end_time": "2022-07-14T13:47:45.650084",
     "exception": false,
     "start_time": "2022-07-14T13:47:45.612692",
     "status": "completed"
    },
    "tags": []
   },
   "outputs": [
    {
     "data": {
      "text/plain": [
       "(5244, 14)"
      ]
     },
     "execution_count": 40,
     "metadata": {},
     "output_type": "execute_result"
    }
   ],
   "source": [
    "test.shape"
   ]
  },
  {
   "cell_type": "code",
   "execution_count": 41,
   "id": "5429e560",
   "metadata": {
    "execution": {
     "iopub.execute_input": "2022-07-14T13:47:45.705490Z",
     "iopub.status.busy": "2022-07-14T13:47:45.705088Z",
     "iopub.status.idle": "2022-07-14T13:47:45.712898Z",
     "shell.execute_reply": "2022-07-14T13:47:45.711645Z"
    },
    "papermill": {
     "duration": 0.038505,
     "end_time": "2022-07-14T13:47:45.715352",
     "exception": false,
     "start_time": "2022-07-14T13:47:45.676847",
     "status": "completed"
    },
    "tags": []
   },
   "outputs": [],
   "source": [
    "X = train.drop(['logprice','id'],axis = 1)\n",
    "y = train['logprice']"
   ]
  },
  {
   "cell_type": "code",
   "execution_count": 42,
   "id": "a9c28c30",
   "metadata": {
    "execution": {
     "iopub.execute_input": "2022-07-14T13:47:45.772038Z",
     "iopub.status.busy": "2022-07-14T13:47:45.771396Z",
     "iopub.status.idle": "2022-07-14T13:47:45.790289Z",
     "shell.execute_reply": "2022-07-14T13:47:45.789204Z"
    },
    "papermill": {
     "duration": 0.049844,
     "end_time": "2022-07-14T13:47:45.792491",
     "exception": false,
     "start_time": "2022-07-14T13:47:45.742647",
     "status": "completed"
    },
    "tags": []
   },
   "outputs": [
    {
     "data": {
      "text/html": [
       "<div>\n",
       "<style scoped>\n",
       "    .dataframe tbody tr th:only-of-type {\n",
       "        vertical-align: middle;\n",
       "    }\n",
       "\n",
       "    .dataframe tbody tr th {\n",
       "        vertical-align: top;\n",
       "    }\n",
       "\n",
       "    .dataframe thead th {\n",
       "        text-align: right;\n",
       "    }\n",
       "</style>\n",
       "<table border=\"1\" class=\"dataframe\">\n",
       "  <thead>\n",
       "    <tr style=\"text-align: right;\">\n",
       "      <th></th>\n",
       "      <th>Rating</th>\n",
       "      <th>maincateg</th>\n",
       "      <th>platform</th>\n",
       "      <th>norating1</th>\n",
       "      <th>noreviews1</th>\n",
       "      <th>star_5f</th>\n",
       "      <th>star_4f</th>\n",
       "      <th>star_3f</th>\n",
       "      <th>star_2f</th>\n",
       "      <th>star_1f</th>\n",
       "      <th>fulfilled1</th>\n",
       "      <th>logactprice</th>\n",
       "    </tr>\n",
       "  </thead>\n",
       "  <tbody>\n",
       "    <tr>\n",
       "      <th>0</th>\n",
       "      <td>3.9</td>\n",
       "      <td>1</td>\n",
       "      <td>1</td>\n",
       "      <td>38.0</td>\n",
       "      <td>7.0</td>\n",
       "      <td>17.0</td>\n",
       "      <td>9.0</td>\n",
       "      <td>6.0</td>\n",
       "      <td>3</td>\n",
       "      <td>3.0</td>\n",
       "      <td>0</td>\n",
       "      <td>6.907755</td>\n",
       "    </tr>\n",
       "    <tr>\n",
       "      <th>1</th>\n",
       "      <td>3.8</td>\n",
       "      <td>0</td>\n",
       "      <td>1</td>\n",
       "      <td>531.0</td>\n",
       "      <td>69.0</td>\n",
       "      <td>264.0</td>\n",
       "      <td>92.0</td>\n",
       "      <td>73.0</td>\n",
       "      <td>29</td>\n",
       "      <td>73.0</td>\n",
       "      <td>1</td>\n",
       "      <td>7.600902</td>\n",
       "    </tr>\n",
       "    <tr>\n",
       "      <th>2</th>\n",
       "      <td>4.4</td>\n",
       "      <td>1</td>\n",
       "      <td>1</td>\n",
       "      <td>17.0</td>\n",
       "      <td>4.0</td>\n",
       "      <td>11.0</td>\n",
       "      <td>3.0</td>\n",
       "      <td>2.0</td>\n",
       "      <td>1</td>\n",
       "      <td>0.0</td>\n",
       "      <td>1</td>\n",
       "      <td>8.517193</td>\n",
       "    </tr>\n",
       "    <tr>\n",
       "      <th>3</th>\n",
       "      <td>4.2</td>\n",
       "      <td>0</td>\n",
       "      <td>1</td>\n",
       "      <td>46413.0</td>\n",
       "      <td>6229.0</td>\n",
       "      <td>1045.0</td>\n",
       "      <td>12416.0</td>\n",
       "      <td>5352.0</td>\n",
       "      <td>701</td>\n",
       "      <td>4595.0</td>\n",
       "      <td>1</td>\n",
       "      <td>6.586172</td>\n",
       "    </tr>\n",
       "    <tr>\n",
       "      <th>4</th>\n",
       "      <td>3.9</td>\n",
       "      <td>0</td>\n",
       "      <td>1</td>\n",
       "      <td>77.0</td>\n",
       "      <td>3.0</td>\n",
       "      <td>35.0</td>\n",
       "      <td>21.0</td>\n",
       "      <td>7.0</td>\n",
       "      <td>7</td>\n",
       "      <td>7.0</td>\n",
       "      <td>1</td>\n",
       "      <td>7.740664</td>\n",
       "    </tr>\n",
       "  </tbody>\n",
       "</table>\n",
       "</div>"
      ],
      "text/plain": [
       "   Rating  maincateg  platform  norating1  noreviews1  star_5f  star_4f  \\\n",
       "0     3.9          1         1       38.0         7.0     17.0      9.0   \n",
       "1     3.8          0         1      531.0        69.0    264.0     92.0   \n",
       "2     4.4          1         1       17.0         4.0     11.0      3.0   \n",
       "3     4.2          0         1    46413.0      6229.0   1045.0  12416.0   \n",
       "4     3.9          0         1       77.0         3.0     35.0     21.0   \n",
       "\n",
       "   star_3f  star_2f  star_1f  fulfilled1  logactprice  \n",
       "0      6.0        3      3.0           0     6.907755  \n",
       "1     73.0       29     73.0           1     7.600902  \n",
       "2      2.0        1      0.0           1     8.517193  \n",
       "3   5352.0      701   4595.0           1     6.586172  \n",
       "4      7.0        7      7.0           1     7.740664  "
      ]
     },
     "execution_count": 42,
     "metadata": {},
     "output_type": "execute_result"
    }
   ],
   "source": [
    "X.head()"
   ]
  },
  {
   "cell_type": "code",
   "execution_count": 43,
   "id": "e6fc4517",
   "metadata": {
    "execution": {
     "iopub.execute_input": "2022-07-14T13:47:45.848947Z",
     "iopub.status.busy": "2022-07-14T13:47:45.848507Z",
     "iopub.status.idle": "2022-07-14T13:47:45.855769Z",
     "shell.execute_reply": "2022-07-14T13:47:45.855063Z"
    },
    "papermill": {
     "duration": 0.037933,
     "end_time": "2022-07-14T13:47:45.857630",
     "exception": false,
     "start_time": "2022-07-14T13:47:45.819697",
     "status": "completed"
    },
    "tags": []
   },
   "outputs": [
    {
     "data": {
      "text/plain": [
       "0    6.549651\n",
       "1    6.907755\n",
       "2    7.919356\n",
       "3    6.251904\n",
       "4    7.229839\n",
       "Name: logprice, dtype: float64"
      ]
     },
     "execution_count": 43,
     "metadata": {},
     "output_type": "execute_result"
    }
   ],
   "source": [
    "y.head()"
   ]
  },
  {
   "cell_type": "markdown",
   "id": "e3cb0a3a",
   "metadata": {
    "papermill": {
     "duration": 0.026849,
     "end_time": "2022-07-14T13:47:45.911713",
     "exception": false,
     "start_time": "2022-07-14T13:47:45.884864",
     "status": "completed"
    },
    "tags": []
   },
   "source": [
    "## Model Training"
   ]
  },
  {
   "cell_type": "code",
   "execution_count": 44,
   "id": "b8fd8cab",
   "metadata": {
    "execution": {
     "iopub.execute_input": "2022-07-14T13:47:45.970322Z",
     "iopub.status.busy": "2022-07-14T13:47:45.969629Z",
     "iopub.status.idle": "2022-07-14T13:47:45.976165Z",
     "shell.execute_reply": "2022-07-14T13:47:45.975048Z"
    },
    "papermill": {
     "duration": 0.039423,
     "end_time": "2022-07-14T13:47:45.978538",
     "exception": false,
     "start_time": "2022-07-14T13:47:45.939115",
     "status": "completed"
    },
    "tags": []
   },
   "outputs": [],
   "source": [
    "def classify(model):\n",
    "    x_train,x_test,y_train,y_test = train_test_split(X,y,test_size = 0.25,random_state = 42)\n",
    "    model.fit(x_train,y_train)\n",
    "    print(\"Accuracy is :\", model.score(x_test,y_test))\n",
    "    \n",
    "    score = cross_val_score(model,X,y,cv = 5)\n",
    "    print(\"Cross Validation Score is : \",np.mean(score))      "
   ]
  },
  {
   "cell_type": "code",
   "execution_count": 45,
   "id": "12cb8928",
   "metadata": {
    "execution": {
     "iopub.execute_input": "2022-07-14T13:47:46.036840Z",
     "iopub.status.busy": "2022-07-14T13:47:46.036060Z",
     "iopub.status.idle": "2022-07-14T13:47:50.196096Z",
     "shell.execute_reply": "2022-07-14T13:47:50.195002Z"
    },
    "papermill": {
     "duration": 4.191554,
     "end_time": "2022-07-14T13:47:50.198629",
     "exception": false,
     "start_time": "2022-07-14T13:47:46.007075",
     "status": "completed"
    },
    "tags": []
   },
   "outputs": [
    {
     "name": "stdout",
     "output_type": "stream",
     "text": [
      "Accuracy is : 0.7430213140133275\n",
      "Cross Validation Score is :  0.7357473240837233\n"
     ]
    }
   ],
   "source": [
    "# Adaboost Regressor\n",
    "from sklearn.ensemble import AdaBoostRegressor\n",
    "model = AdaBoostRegressor()\n",
    "classify(model)"
   ]
  },
  {
   "cell_type": "code",
   "execution_count": 46,
   "id": "bbe58c37",
   "metadata": {
    "execution": {
     "iopub.execute_input": "2022-07-14T13:47:50.255978Z",
     "iopub.status.busy": "2022-07-14T13:47:50.255072Z",
     "iopub.status.idle": "2022-07-14T13:47:50.451847Z",
     "shell.execute_reply": "2022-07-14T13:47:50.450351Z"
    },
    "papermill": {
     "duration": 0.229403,
     "end_time": "2022-07-14T13:47:50.455735",
     "exception": false,
     "start_time": "2022-07-14T13:47:50.226332",
     "status": "completed"
    },
    "tags": []
   },
   "outputs": [
    {
     "name": "stdout",
     "output_type": "stream",
     "text": [
      "Accuracy is : 0.7491765867003686\n",
      "Cross Validation Score is :  0.738853344861232\n"
     ]
    }
   ],
   "source": [
    "# Linear Regressor\n",
    "model = LinearRegression()\n",
    "classify(model)"
   ]
  },
  {
   "cell_type": "code",
   "execution_count": 47,
   "id": "e33d5ae5",
   "metadata": {
    "execution": {
     "iopub.execute_input": "2022-07-14T13:47:50.561269Z",
     "iopub.status.busy": "2022-07-14T13:47:50.560719Z",
     "iopub.status.idle": "2022-07-14T13:47:56.560160Z",
     "shell.execute_reply": "2022-07-14T13:47:56.558443Z"
    },
    "papermill": {
     "duration": 6.054776,
     "end_time": "2022-07-14T13:47:56.562760",
     "exception": false,
     "start_time": "2022-07-14T13:47:50.507984",
     "status": "completed"
    },
    "tags": []
   },
   "outputs": [
    {
     "name": "stdout",
     "output_type": "stream",
     "text": [
      "Accuracy is : 0.8690686405577371\n",
      "Cross Validation Score is :  0.8691486118567019\n"
     ]
    }
   ],
   "source": [
    "from xgboost import XGBRegressor\n",
    "model = XGBRegressor()\n",
    "classify(model)"
   ]
  },
  {
   "cell_type": "code",
   "execution_count": 48,
   "id": "110a6764",
   "metadata": {
    "execution": {
     "iopub.execute_input": "2022-07-14T13:47:56.621107Z",
     "iopub.status.busy": "2022-07-14T13:47:56.620725Z",
     "iopub.status.idle": "2022-07-14T13:47:57.284975Z",
     "shell.execute_reply": "2022-07-14T13:47:57.283783Z"
    },
    "papermill": {
     "duration": 0.695673,
     "end_time": "2022-07-14T13:47:57.287290",
     "exception": false,
     "start_time": "2022-07-14T13:47:56.591617",
     "status": "completed"
    },
    "tags": []
   },
   "outputs": [
    {
     "name": "stdout",
     "output_type": "stream",
     "text": [
      "Accuracy is : 0.8251144862600057\n",
      "Cross Validation Score is :  0.8212691698377492\n"
     ]
    }
   ],
   "source": [
    "from sklearn.tree import DecisionTreeRegressor\n",
    "model = DecisionTreeRegressor()\n",
    "classify(model)"
   ]
  },
  {
   "cell_type": "code",
   "execution_count": 49,
   "id": "a9c3176c",
   "metadata": {
    "execution": {
     "iopub.execute_input": "2022-07-14T13:47:57.345492Z",
     "iopub.status.busy": "2022-07-14T13:47:57.344735Z",
     "iopub.status.idle": "2022-07-14T13:48:36.967504Z",
     "shell.execute_reply": "2022-07-14T13:48:36.966394Z"
    },
    "papermill": {
     "duration": 39.682231,
     "end_time": "2022-07-14T13:48:36.997364",
     "exception": false,
     "start_time": "2022-07-14T13:47:57.315133",
     "status": "completed"
    },
    "tags": []
   },
   "outputs": [
    {
     "name": "stdout",
     "output_type": "stream",
     "text": [
      "Accuracy is : 0.8951875265921153\n",
      "Cross Validation Score is :  0.8971712480358157\n"
     ]
    }
   ],
   "source": [
    "from sklearn.ensemble import RandomForestRegressor\n",
    "model = RandomForestRegressor()\n",
    "classify(model)"
   ]
  },
  {
   "cell_type": "markdown",
   "id": "a044b0e0",
   "metadata": {
    "papermill": {
     "duration": 0.027422,
     "end_time": "2022-07-14T13:48:37.052562",
     "exception": false,
     "start_time": "2022-07-14T13:48:37.025140",
     "status": "completed"
    },
    "tags": []
   },
   "source": [
    "## Final Model XGBRegressor"
   ]
  },
  {
   "cell_type": "code",
   "execution_count": 50,
   "id": "7273e29a",
   "metadata": {
    "execution": {
     "iopub.execute_input": "2022-07-14T13:48:37.110908Z",
     "iopub.status.busy": "2022-07-14T13:48:37.110254Z",
     "iopub.status.idle": "2022-07-14T13:48:45.173810Z",
     "shell.execute_reply": "2022-07-14T13:48:45.172846Z"
    },
    "papermill": {
     "duration": 8.09512,
     "end_time": "2022-07-14T13:48:45.175921",
     "exception": false,
     "start_time": "2022-07-14T13:48:37.080801",
     "status": "completed"
    },
    "tags": []
   },
   "outputs": [
    {
     "data": {
      "text/plain": [
       "RandomForestRegressor()"
      ]
     },
     "execution_count": 50,
     "metadata": {},
     "output_type": "execute_result"
    }
   ],
   "source": [
    "model = RandomForestRegressor()\n",
    "model.fit(X,y)"
   ]
  },
  {
   "cell_type": "code",
   "execution_count": 51,
   "id": "4414525e",
   "metadata": {
    "execution": {
     "iopub.execute_input": "2022-07-14T13:48:45.234789Z",
     "iopub.status.busy": "2022-07-14T13:48:45.234231Z",
     "iopub.status.idle": "2022-07-14T13:48:45.253642Z",
     "shell.execute_reply": "2022-07-14T13:48:45.252826Z"
    },
    "papermill": {
     "duration": 0.051495,
     "end_time": "2022-07-14T13:48:45.255675",
     "exception": false,
     "start_time": "2022-07-14T13:48:45.204180",
     "status": "completed"
    },
    "tags": []
   },
   "outputs": [
    {
     "data": {
      "text/html": [
       "<div>\n",
       "<style scoped>\n",
       "    .dataframe tbody tr th:only-of-type {\n",
       "        vertical-align: middle;\n",
       "    }\n",
       "\n",
       "    .dataframe tbody tr th {\n",
       "        vertical-align: top;\n",
       "    }\n",
       "\n",
       "    .dataframe thead th {\n",
       "        text-align: right;\n",
       "    }\n",
       "</style>\n",
       "<table border=\"1\" class=\"dataframe\">\n",
       "  <thead>\n",
       "    <tr style=\"text-align: right;\">\n",
       "      <th></th>\n",
       "      <th>id</th>\n",
       "      <th>Rating</th>\n",
       "      <th>maincateg</th>\n",
       "      <th>platform</th>\n",
       "      <th>norating1</th>\n",
       "      <th>noreviews1</th>\n",
       "      <th>star_5f</th>\n",
       "      <th>star_4f</th>\n",
       "      <th>star_3f</th>\n",
       "      <th>star_2f</th>\n",
       "      <th>star_1f</th>\n",
       "      <th>fulfilled1</th>\n",
       "      <th>logactprice</th>\n",
       "      <th>logprice</th>\n",
       "    </tr>\n",
       "  </thead>\n",
       "  <tbody>\n",
       "    <tr>\n",
       "      <th>0</th>\n",
       "      <td>2242</td>\n",
       "      <td>3.8</td>\n",
       "      <td>0</td>\n",
       "      <td>1</td>\n",
       "      <td>27928.0</td>\n",
       "      <td>3543.0</td>\n",
       "      <td>14238.0</td>\n",
       "      <td>4295.0</td>\n",
       "      <td>3457.0</td>\n",
       "      <td>1962</td>\n",
       "      <td>3976.0</td>\n",
       "      <td>1</td>\n",
       "      <td>6.907755</td>\n",
       "      <td>NaN</td>\n",
       "    </tr>\n",
       "    <tr>\n",
       "      <th>1</th>\n",
       "      <td>20532</td>\n",
       "      <td>3.9</td>\n",
       "      <td>1</td>\n",
       "      <td>1</td>\n",
       "      <td>3015.0</td>\n",
       "      <td>404.0</td>\n",
       "      <td>1458.0</td>\n",
       "      <td>657.0</td>\n",
       "      <td>397.0</td>\n",
       "      <td>182</td>\n",
       "      <td>321.0</td>\n",
       "      <td>1</td>\n",
       "      <td>6.214608</td>\n",
       "      <td>NaN</td>\n",
       "    </tr>\n",
       "    <tr>\n",
       "      <th>2</th>\n",
       "      <td>10648</td>\n",
       "      <td>3.9</td>\n",
       "      <td>1</td>\n",
       "      <td>1</td>\n",
       "      <td>449.0</td>\n",
       "      <td>52.0</td>\n",
       "      <td>229.0</td>\n",
       "      <td>70.0</td>\n",
       "      <td>71.0</td>\n",
       "      <td>33</td>\n",
       "      <td>46.0</td>\n",
       "      <td>1</td>\n",
       "      <td>6.907755</td>\n",
       "      <td>NaN</td>\n",
       "    </tr>\n",
       "    <tr>\n",
       "      <th>3</th>\n",
       "      <td>20677</td>\n",
       "      <td>3.9</td>\n",
       "      <td>0</td>\n",
       "      <td>1</td>\n",
       "      <td>290.0</td>\n",
       "      <td>40.0</td>\n",
       "      <td>141.0</td>\n",
       "      <td>51.0</td>\n",
       "      <td>49.0</td>\n",
       "      <td>17</td>\n",
       "      <td>32.0</td>\n",
       "      <td>1</td>\n",
       "      <td>8.006368</td>\n",
       "      <td>NaN</td>\n",
       "    </tr>\n",
       "    <tr>\n",
       "      <th>4</th>\n",
       "      <td>12593</td>\n",
       "      <td>3.9</td>\n",
       "      <td>0</td>\n",
       "      <td>1</td>\n",
       "      <td>2423.0</td>\n",
       "      <td>326.0</td>\n",
       "      <td>1265.0</td>\n",
       "      <td>414.0</td>\n",
       "      <td>293.0</td>\n",
       "      <td>143</td>\n",
       "      <td>308.0</td>\n",
       "      <td>0</td>\n",
       "      <td>6.907755</td>\n",
       "      <td>NaN</td>\n",
       "    </tr>\n",
       "  </tbody>\n",
       "</table>\n",
       "</div>"
      ],
      "text/plain": [
       "      id  Rating  maincateg  platform  norating1  noreviews1  star_5f  \\\n",
       "0   2242     3.8          0         1    27928.0      3543.0  14238.0   \n",
       "1  20532     3.9          1         1     3015.0       404.0   1458.0   \n",
       "2  10648     3.9          1         1      449.0        52.0    229.0   \n",
       "3  20677     3.9          0         1      290.0        40.0    141.0   \n",
       "4  12593     3.9          0         1     2423.0       326.0   1265.0   \n",
       "\n",
       "   star_4f  star_3f  star_2f  star_1f  fulfilled1  logactprice  logprice  \n",
       "0   4295.0   3457.0     1962   3976.0           1     6.907755       NaN  \n",
       "1    657.0    397.0      182    321.0           1     6.214608       NaN  \n",
       "2     70.0     71.0       33     46.0           1     6.907755       NaN  \n",
       "3     51.0     49.0       17     32.0           1     8.006368       NaN  \n",
       "4    414.0    293.0      143    308.0           0     6.907755       NaN  "
      ]
     },
     "execution_count": 51,
     "metadata": {},
     "output_type": "execute_result"
    }
   ],
   "source": [
    "test.head()"
   ]
  },
  {
   "cell_type": "code",
   "execution_count": 52,
   "id": "d17bbcda",
   "metadata": {
    "execution": {
     "iopub.execute_input": "2022-07-14T13:48:45.314961Z",
     "iopub.status.busy": "2022-07-14T13:48:45.314511Z",
     "iopub.status.idle": "2022-07-14T13:48:45.320659Z",
     "shell.execute_reply": "2022-07-14T13:48:45.319887Z"
    },
    "papermill": {
     "duration": 0.038625,
     "end_time": "2022-07-14T13:48:45.322689",
     "exception": false,
     "start_time": "2022-07-14T13:48:45.284064",
     "status": "completed"
    },
    "tags": []
   },
   "outputs": [],
   "source": [
    "X_test = test.drop(['logprice','id'],axis = 1)"
   ]
  },
  {
   "cell_type": "code",
   "execution_count": 53,
   "id": "d8426878",
   "metadata": {
    "execution": {
     "iopub.execute_input": "2022-07-14T13:48:45.380909Z",
     "iopub.status.busy": "2022-07-14T13:48:45.380329Z",
     "iopub.status.idle": "2022-07-14T13:48:45.398115Z",
     "shell.execute_reply": "2022-07-14T13:48:45.397220Z"
    },
    "papermill": {
     "duration": 0.049249,
     "end_time": "2022-07-14T13:48:45.400025",
     "exception": false,
     "start_time": "2022-07-14T13:48:45.350776",
     "status": "completed"
    },
    "tags": []
   },
   "outputs": [
    {
     "data": {
      "text/html": [
       "<div>\n",
       "<style scoped>\n",
       "    .dataframe tbody tr th:only-of-type {\n",
       "        vertical-align: middle;\n",
       "    }\n",
       "\n",
       "    .dataframe tbody tr th {\n",
       "        vertical-align: top;\n",
       "    }\n",
       "\n",
       "    .dataframe thead th {\n",
       "        text-align: right;\n",
       "    }\n",
       "</style>\n",
       "<table border=\"1\" class=\"dataframe\">\n",
       "  <thead>\n",
       "    <tr style=\"text-align: right;\">\n",
       "      <th></th>\n",
       "      <th>Rating</th>\n",
       "      <th>maincateg</th>\n",
       "      <th>platform</th>\n",
       "      <th>norating1</th>\n",
       "      <th>noreviews1</th>\n",
       "      <th>star_5f</th>\n",
       "      <th>star_4f</th>\n",
       "      <th>star_3f</th>\n",
       "      <th>star_2f</th>\n",
       "      <th>star_1f</th>\n",
       "      <th>fulfilled1</th>\n",
       "      <th>logactprice</th>\n",
       "    </tr>\n",
       "  </thead>\n",
       "  <tbody>\n",
       "    <tr>\n",
       "      <th>0</th>\n",
       "      <td>3.8</td>\n",
       "      <td>0</td>\n",
       "      <td>1</td>\n",
       "      <td>27928.0</td>\n",
       "      <td>3543.0</td>\n",
       "      <td>14238.0</td>\n",
       "      <td>4295.0</td>\n",
       "      <td>3457.0</td>\n",
       "      <td>1962</td>\n",
       "      <td>3976.0</td>\n",
       "      <td>1</td>\n",
       "      <td>6.907755</td>\n",
       "    </tr>\n",
       "    <tr>\n",
       "      <th>1</th>\n",
       "      <td>3.9</td>\n",
       "      <td>1</td>\n",
       "      <td>1</td>\n",
       "      <td>3015.0</td>\n",
       "      <td>404.0</td>\n",
       "      <td>1458.0</td>\n",
       "      <td>657.0</td>\n",
       "      <td>397.0</td>\n",
       "      <td>182</td>\n",
       "      <td>321.0</td>\n",
       "      <td>1</td>\n",
       "      <td>6.214608</td>\n",
       "    </tr>\n",
       "    <tr>\n",
       "      <th>2</th>\n",
       "      <td>3.9</td>\n",
       "      <td>1</td>\n",
       "      <td>1</td>\n",
       "      <td>449.0</td>\n",
       "      <td>52.0</td>\n",
       "      <td>229.0</td>\n",
       "      <td>70.0</td>\n",
       "      <td>71.0</td>\n",
       "      <td>33</td>\n",
       "      <td>46.0</td>\n",
       "      <td>1</td>\n",
       "      <td>6.907755</td>\n",
       "    </tr>\n",
       "    <tr>\n",
       "      <th>3</th>\n",
       "      <td>3.9</td>\n",
       "      <td>0</td>\n",
       "      <td>1</td>\n",
       "      <td>290.0</td>\n",
       "      <td>40.0</td>\n",
       "      <td>141.0</td>\n",
       "      <td>51.0</td>\n",
       "      <td>49.0</td>\n",
       "      <td>17</td>\n",
       "      <td>32.0</td>\n",
       "      <td>1</td>\n",
       "      <td>8.006368</td>\n",
       "    </tr>\n",
       "    <tr>\n",
       "      <th>4</th>\n",
       "      <td>3.9</td>\n",
       "      <td>0</td>\n",
       "      <td>1</td>\n",
       "      <td>2423.0</td>\n",
       "      <td>326.0</td>\n",
       "      <td>1265.0</td>\n",
       "      <td>414.0</td>\n",
       "      <td>293.0</td>\n",
       "      <td>143</td>\n",
       "      <td>308.0</td>\n",
       "      <td>0</td>\n",
       "      <td>6.907755</td>\n",
       "    </tr>\n",
       "  </tbody>\n",
       "</table>\n",
       "</div>"
      ],
      "text/plain": [
       "   Rating  maincateg  platform  norating1  noreviews1  star_5f  star_4f  \\\n",
       "0     3.8          0         1    27928.0      3543.0  14238.0   4295.0   \n",
       "1     3.9          1         1     3015.0       404.0   1458.0    657.0   \n",
       "2     3.9          1         1      449.0        52.0    229.0     70.0   \n",
       "3     3.9          0         1      290.0        40.0    141.0     51.0   \n",
       "4     3.9          0         1     2423.0       326.0   1265.0    414.0   \n",
       "\n",
       "   star_3f  star_2f  star_1f  fulfilled1  logactprice  \n",
       "0   3457.0     1962   3976.0           1     6.907755  \n",
       "1    397.0      182    321.0           1     6.214608  \n",
       "2     71.0       33     46.0           1     6.907755  \n",
       "3     49.0       17     32.0           1     8.006368  \n",
       "4    293.0      143    308.0           0     6.907755  "
      ]
     },
     "execution_count": 53,
     "metadata": {},
     "output_type": "execute_result"
    }
   ],
   "source": [
    "X_test.head()"
   ]
  },
  {
   "cell_type": "code",
   "execution_count": 54,
   "id": "869757b0",
   "metadata": {
    "execution": {
     "iopub.execute_input": "2022-07-14T13:48:45.459252Z",
     "iopub.status.busy": "2022-07-14T13:48:45.458672Z",
     "iopub.status.idle": "2022-07-14T13:48:45.622851Z",
     "shell.execute_reply": "2022-07-14T13:48:45.621708Z"
    },
    "papermill": {
     "duration": 0.197168,
     "end_time": "2022-07-14T13:48:45.625625",
     "exception": false,
     "start_time": "2022-07-14T13:48:45.428457",
     "status": "completed"
    },
    "tags": []
   },
   "outputs": [],
   "source": [
    "pred = model.predict(X_test)"
   ]
  },
  {
   "cell_type": "code",
   "execution_count": 55,
   "id": "4ea6f10b",
   "metadata": {
    "execution": {
     "iopub.execute_input": "2022-07-14T13:48:45.685610Z",
     "iopub.status.busy": "2022-07-14T13:48:45.685051Z",
     "iopub.status.idle": "2022-07-14T13:48:45.690779Z",
     "shell.execute_reply": "2022-07-14T13:48:45.689971Z"
    },
    "papermill": {
     "duration": 0.038083,
     "end_time": "2022-07-14T13:48:45.692794",
     "exception": false,
     "start_time": "2022-07-14T13:48:45.654711",
     "status": "completed"
    },
    "tags": []
   },
   "outputs": [
    {
     "data": {
      "text/plain": [
       "array([5.63716787, 6.11261088, 6.71050801, 5.99296853])"
      ]
     },
     "execution_count": 55,
     "metadata": {},
     "output_type": "execute_result"
    }
   ],
   "source": [
    "pred[1:5]"
   ]
  },
  {
   "cell_type": "code",
   "execution_count": 56,
   "id": "c9d5fdf9",
   "metadata": {
    "execution": {
     "iopub.execute_input": "2022-07-14T13:48:45.752731Z",
     "iopub.status.busy": "2022-07-14T13:48:45.752079Z",
     "iopub.status.idle": "2022-07-14T13:48:45.756160Z",
     "shell.execute_reply": "2022-07-14T13:48:45.755493Z"
    },
    "papermill": {
     "duration": 0.036328,
     "end_time": "2022-07-14T13:48:45.758065",
     "exception": false,
     "start_time": "2022-07-14T13:48:45.721737",
     "status": "completed"
    },
    "tags": []
   },
   "outputs": [],
   "source": [
    "preds = np.exp(pred)-1"
   ]
  },
  {
   "cell_type": "code",
   "execution_count": 57,
   "id": "cbe3b909",
   "metadata": {
    "execution": {
     "iopub.execute_input": "2022-07-14T13:48:45.817290Z",
     "iopub.status.busy": "2022-07-14T13:48:45.816637Z",
     "iopub.status.idle": "2022-07-14T13:48:45.822303Z",
     "shell.execute_reply": "2022-07-14T13:48:45.821617Z"
    },
    "papermill": {
     "duration": 0.037695,
     "end_time": "2022-07-14T13:48:45.824299",
     "exception": false,
     "start_time": "2022-07-14T13:48:45.786604",
     "status": "completed"
    },
    "tags": []
   },
   "outputs": [
    {
     "data": {
      "text/plain": [
       "array([279.66670748, 450.51603023, 819.98759987, 399.60204411])"
      ]
     },
     "execution_count": 57,
     "metadata": {},
     "output_type": "execute_result"
    }
   ],
   "source": [
    "preds[1:5]"
   ]
  },
  {
   "cell_type": "code",
   "execution_count": 58,
   "id": "bf3736d4",
   "metadata": {
    "execution": {
     "iopub.execute_input": "2022-07-14T13:48:45.884990Z",
     "iopub.status.busy": "2022-07-14T13:48:45.884294Z",
     "iopub.status.idle": "2022-07-14T13:48:45.888691Z",
     "shell.execute_reply": "2022-07-14T13:48:45.887896Z"
    },
    "papermill": {
     "duration": 0.037452,
     "end_time": "2022-07-14T13:48:45.890968",
     "exception": false,
     "start_time": "2022-07-14T13:48:45.853516",
     "status": "completed"
    },
    "tags": []
   },
   "outputs": [],
   "source": [
    "preds = preds.astype('int64')"
   ]
  },
  {
   "cell_type": "code",
   "execution_count": 59,
   "id": "e998116f",
   "metadata": {
    "execution": {
     "iopub.execute_input": "2022-07-14T13:48:45.951143Z",
     "iopub.status.busy": "2022-07-14T13:48:45.950473Z",
     "iopub.status.idle": "2022-07-14T13:48:45.955959Z",
     "shell.execute_reply": "2022-07-14T13:48:45.955252Z"
    },
    "papermill": {
     "duration": 0.03778,
     "end_time": "2022-07-14T13:48:45.957899",
     "exception": false,
     "start_time": "2022-07-14T13:48:45.920119",
     "status": "completed"
    },
    "tags": []
   },
   "outputs": [
    {
     "data": {
      "text/plain": [
       "array([279, 450, 819, 399])"
      ]
     },
     "execution_count": 59,
     "metadata": {},
     "output_type": "execute_result"
    }
   ],
   "source": [
    "preds[1:5]"
   ]
  },
  {
   "cell_type": "markdown",
   "id": "3f6fc342",
   "metadata": {
    "papermill": {
     "duration": 0.030315,
     "end_time": "2022-07-14T13:48:46.017342",
     "exception": false,
     "start_time": "2022-07-14T13:48:45.987027",
     "status": "completed"
    },
    "tags": []
   },
   "source": [
    "## Test Submission"
   ]
  },
  {
   "cell_type": "code",
   "execution_count": 60,
   "id": "f5cc14b0",
   "metadata": {
    "execution": {
     "iopub.execute_input": "2022-07-14T13:48:46.078855Z",
     "iopub.status.busy": "2022-07-14T13:48:46.078160Z",
     "iopub.status.idle": "2022-07-14T13:48:46.100854Z",
     "shell.execute_reply": "2022-07-14T13:48:46.100010Z"
    },
    "papermill": {
     "duration": 0.056027,
     "end_time": "2022-07-14T13:48:46.103057",
     "exception": false,
     "start_time": "2022-07-14T13:48:46.047030",
     "status": "completed"
    },
    "tags": []
   },
   "outputs": [
    {
     "data": {
      "text/html": [
       "<div>\n",
       "<style scoped>\n",
       "    .dataframe tbody tr th:only-of-type {\n",
       "        vertical-align: middle;\n",
       "    }\n",
       "\n",
       "    .dataframe tbody tr th {\n",
       "        vertical-align: top;\n",
       "    }\n",
       "\n",
       "    .dataframe thead th {\n",
       "        text-align: right;\n",
       "    }\n",
       "</style>\n",
       "<table border=\"1\" class=\"dataframe\">\n",
       "  <thead>\n",
       "    <tr style=\"text-align: right;\">\n",
       "      <th></th>\n",
       "      <th>id</th>\n",
       "      <th>price1</th>\n",
       "    </tr>\n",
       "  </thead>\n",
       "  <tbody>\n",
       "    <tr>\n",
       "      <th>0</th>\n",
       "      <td>19841</td>\n",
       "      <td>193</td>\n",
       "    </tr>\n",
       "    <tr>\n",
       "      <th>1</th>\n",
       "      <td>19157</td>\n",
       "      <td>340</td>\n",
       "    </tr>\n",
       "    <tr>\n",
       "      <th>2</th>\n",
       "      <td>19445</td>\n",
       "      <td>637</td>\n",
       "    </tr>\n",
       "    <tr>\n",
       "      <th>3</th>\n",
       "      <td>8046</td>\n",
       "      <td>679</td>\n",
       "    </tr>\n",
       "    <tr>\n",
       "      <th>4</th>\n",
       "      <td>4571</td>\n",
       "      <td>190</td>\n",
       "    </tr>\n",
       "  </tbody>\n",
       "</table>\n",
       "</div>"
      ],
      "text/plain": [
       "      id  price1\n",
       "0  19841     193\n",
       "1  19157     340\n",
       "2  19445     637\n",
       "3   8046     679\n",
       "4   4571     190"
      ]
     },
     "execution_count": 60,
     "metadata": {},
     "output_type": "execute_result"
    }
   ],
   "source": [
    "sub = pd.read_csv('/kaggle/input/sa2022/Sample__submission.csv')\n",
    "sub.head()"
   ]
  },
  {
   "cell_type": "code",
   "execution_count": 61,
   "id": "1b0c67ec",
   "metadata": {
    "execution": {
     "iopub.execute_input": "2022-07-14T13:48:46.163376Z",
     "iopub.status.busy": "2022-07-14T13:48:46.162664Z",
     "iopub.status.idle": "2022-07-14T13:48:46.173653Z",
     "shell.execute_reply": "2022-07-14T13:48:46.172464Z"
    },
    "papermill": {
     "duration": 0.043937,
     "end_time": "2022-07-14T13:48:46.176231",
     "exception": false,
     "start_time": "2022-07-14T13:48:46.132294",
     "status": "completed"
    },
    "tags": []
   },
   "outputs": [
    {
     "name": "stdout",
     "output_type": "stream",
     "text": [
      "<class 'pandas.core.frame.DataFrame'>\n",
      "RangeIndex: 5244 entries, 0 to 5243\n",
      "Data columns (total 2 columns):\n",
      " #   Column  Non-Null Count  Dtype\n",
      "---  ------  --------------  -----\n",
      " 0   id      5244 non-null   int64\n",
      " 1   price1  5244 non-null   int64\n",
      "dtypes: int64(2)\n",
      "memory usage: 82.1 KB\n"
     ]
    }
   ],
   "source": [
    "sub.info()"
   ]
  },
  {
   "cell_type": "code",
   "execution_count": 62,
   "id": "315bd97a",
   "metadata": {
    "execution": {
     "iopub.execute_input": "2022-07-14T13:48:46.236899Z",
     "iopub.status.busy": "2022-07-14T13:48:46.236276Z",
     "iopub.status.idle": "2022-07-14T13:48:46.241193Z",
     "shell.execute_reply": "2022-07-14T13:48:46.240383Z"
    },
    "papermill": {
     "duration": 0.0376,
     "end_time": "2022-07-14T13:48:46.243124",
     "exception": false,
     "start_time": "2022-07-14T13:48:46.205524",
     "status": "completed"
    },
    "tags": []
   },
   "outputs": [],
   "source": [
    "sub['price1'] = preds"
   ]
  },
  {
   "cell_type": "code",
   "execution_count": 63,
   "id": "41ffb0dc",
   "metadata": {
    "execution": {
     "iopub.execute_input": "2022-07-14T13:48:46.303819Z",
     "iopub.status.busy": "2022-07-14T13:48:46.303190Z",
     "iopub.status.idle": "2022-07-14T13:48:46.308570Z",
     "shell.execute_reply": "2022-07-14T13:48:46.307794Z"
    },
    "papermill": {
     "duration": 0.038126,
     "end_time": "2022-07-14T13:48:46.310789",
     "exception": false,
     "start_time": "2022-07-14T13:48:46.272663",
     "status": "completed"
    },
    "tags": []
   },
   "outputs": [],
   "source": [
    "sub['id'] = test['id']"
   ]
  },
  {
   "cell_type": "code",
   "execution_count": 64,
   "id": "042cd911",
   "metadata": {
    "execution": {
     "iopub.execute_input": "2022-07-14T13:48:46.371969Z",
     "iopub.status.busy": "2022-07-14T13:48:46.370928Z",
     "iopub.status.idle": "2022-07-14T13:48:46.380586Z",
     "shell.execute_reply": "2022-07-14T13:48:46.379134Z"
    },
    "papermill": {
     "duration": 0.043093,
     "end_time": "2022-07-14T13:48:46.383033",
     "exception": false,
     "start_time": "2022-07-14T13:48:46.339940",
     "status": "completed"
    },
    "tags": []
   },
   "outputs": [
    {
     "data": {
      "text/html": [
       "<div>\n",
       "<style scoped>\n",
       "    .dataframe tbody tr th:only-of-type {\n",
       "        vertical-align: middle;\n",
       "    }\n",
       "\n",
       "    .dataframe tbody tr th {\n",
       "        vertical-align: top;\n",
       "    }\n",
       "\n",
       "    .dataframe thead th {\n",
       "        text-align: right;\n",
       "    }\n",
       "</style>\n",
       "<table border=\"1\" class=\"dataframe\">\n",
       "  <thead>\n",
       "    <tr style=\"text-align: right;\">\n",
       "      <th></th>\n",
       "      <th>id</th>\n",
       "      <th>price1</th>\n",
       "    </tr>\n",
       "  </thead>\n",
       "  <tbody>\n",
       "    <tr>\n",
       "      <th>0</th>\n",
       "      <td>2242</td>\n",
       "      <td>426</td>\n",
       "    </tr>\n",
       "    <tr>\n",
       "      <th>1</th>\n",
       "      <td>20532</td>\n",
       "      <td>279</td>\n",
       "    </tr>\n",
       "    <tr>\n",
       "      <th>2</th>\n",
       "      <td>10648</td>\n",
       "      <td>450</td>\n",
       "    </tr>\n",
       "    <tr>\n",
       "      <th>3</th>\n",
       "      <td>20677</td>\n",
       "      <td>819</td>\n",
       "    </tr>\n",
       "    <tr>\n",
       "      <th>4</th>\n",
       "      <td>12593</td>\n",
       "      <td>399</td>\n",
       "    </tr>\n",
       "  </tbody>\n",
       "</table>\n",
       "</div>"
      ],
      "text/plain": [
       "      id  price1\n",
       "0   2242     426\n",
       "1  20532     279\n",
       "2  10648     450\n",
       "3  20677     819\n",
       "4  12593     399"
      ]
     },
     "execution_count": 64,
     "metadata": {},
     "output_type": "execute_result"
    }
   ],
   "source": [
    "sub.head()"
   ]
  },
  {
   "cell_type": "code",
   "execution_count": 65,
   "id": "5a90b181",
   "metadata": {
    "execution": {
     "iopub.execute_input": "2022-07-14T13:48:46.445309Z",
     "iopub.status.busy": "2022-07-14T13:48:46.444548Z",
     "iopub.status.idle": "2022-07-14T13:48:46.462406Z",
     "shell.execute_reply": "2022-07-14T13:48:46.461182Z"
    },
    "papermill": {
     "duration": 0.052128,
     "end_time": "2022-07-14T13:48:46.465263",
     "exception": false,
     "start_time": "2022-07-14T13:48:46.413135",
     "status": "completed"
    },
    "tags": []
   },
   "outputs": [],
   "source": [
    "sub.to_csv('submission.csv',index = False)"
   ]
  }
 ],
 "metadata": {
  "kernelspec": {
   "display_name": "Python 3",
   "language": "python",
   "name": "python3"
  },
  "language_info": {
   "codemirror_mode": {
    "name": "ipython",
    "version": 3
   },
   "file_extension": ".py",
   "mimetype": "text/x-python",
   "name": "python",
   "nbconvert_exporter": "python",
   "pygments_lexer": "ipython3",
   "version": "3.7.12"
  },
  "papermill": {
   "default_parameters": {},
   "duration": 79.707886,
   "end_time": "2022-07-14T13:48:47.317145",
   "environment_variables": {},
   "exception": null,
   "input_path": "__notebook__.ipynb",
   "output_path": "__notebook__.ipynb",
   "parameters": {},
   "start_time": "2022-07-14T13:47:27.609259",
   "version": "2.3.4"
  }
 },
 "nbformat": 4,
 "nbformat_minor": 5
}
